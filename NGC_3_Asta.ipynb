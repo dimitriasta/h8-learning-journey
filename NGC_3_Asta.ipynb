{
 "cells": [
  {
   "cell_type": "code",
   "execution_count": 98,
   "metadata": {},
   "outputs": [
    {
     "name": "stdout",
     "output_type": "stream",
     "text": [
      "300 degree celcius is equal to 573 kelvin\n",
      "300 kelvin is equal to 27 degree celcius\n"
     ]
    }
   ],
   "source": [
    "def konvert_ck(suhu):\n",
    "    '''Mengkonversi suhu dari celcius ke kelvin'''\n",
    "    kelvin = suhu + 273   #rumus konversi celcius ke kelvin\n",
    "    return kelvin   #menyimpan hasil dari fungsi ini\n",
    "\n",
    "def konvert_kc(suhu):\n",
    "    '''Mengkonversi suhu dari kelvin ke celcius'''\n",
    "    celcius = suhu - 273   #rumus konversi kelvin ke celcius\n",
    "    return celcius   #menyimpan hasil dari fungsi ini\n",
    "\n",
    "suhu = 300   #input nilai suhu\n",
    "ck = konvert_ck(suhu)   #menjalankan fungsi konversi celcius ke kelvin\n",
    "kc = konvert_kc(suhu)   #menjalankan fungsi konversi kelvin ke celcius\n",
    "print(f'{suhu} degree celcius is equal to {ck} kelvin')   \n",
    "#output dari fungsi konversi celcius to kelvin\n",
    "print(f'{suhu} kelvin is equal to {kc} degree celcius')   \n",
    "#output dari fungsi konversi kelvin to celcius"
   ]
  },
  {
   "cell_type": "code",
   "execution_count": 99,
   "metadata": {},
   "outputs": [
    {
     "name": "stdout",
     "output_type": "stream",
     "text": [
      "33 degree celcius is equal to 91.40 degree fahrenheit\n",
      "306 kelvin is equal to 91.40 degree fahrenheit\n"
     ]
    }
   ],
   "source": [
    "def konvert_cf(celcius):\n",
    "    '''Mengkonversi suhu dari celcius ke fahrenheit'''\n",
    "    c_fahrenheit = celcius * 1.8 +  32   #rumus konversi celcius ke fahrenheit\n",
    "    print(f\"{celcius} degree celcius is equal to {c_fahrenheit:.2f} degree fahrenheit\")\n",
    "    \n",
    "\n",
    "def konvert_kf(kelvin):\n",
    "    '''Mengkonversi suhu dari kelvin ke fahrenheit'''\n",
    "    k_fahrenheit = konvert_kc(kelvin) * 1.8 + 32 \n",
    "    #rumus konversi kelvin ke fahrenheit dengan bantuan fungsi konvert_kc\n",
    "    print(f\"{kelvin} kelvin is equal to {k_fahrenheit:.2f} degree fahrenheit\")\n",
    "    \n",
    "\n",
    "celcius = 33   #input nilai suhu celcius\n",
    "kelvin = 306   #input nilai suhu kelvin\n",
    "konvert_cf(celcius)   #menjalankan fungsi konversi celcius ke fahrenheit\n",
    "konvert_kf(kelvin)   #menjalankan fungsi konversi kelvin ke fahrenheit"
   ]
  },
  {
   "cell_type": "code",
   "execution_count": 102,
   "metadata": {},
   "outputs": [
    {
     "name": "stdout",
     "output_type": "stream",
     "text": [
      "80 degree fahrenheit is equal to 26.67 degree celcius\n",
      "80 degree fahrenheit is equal to 299.82 kelvin\n"
     ]
    }
   ],
   "source": [
    "def konvert_fc(suhu_f):\n",
    "    '''Mengkonversi suhu dari fahrenheit ke celcius'''\n",
    "    f_celcius = (suhu_f - 32) / 1.8  #rumus konversi fahrenheit ke celcius\n",
    "    return f_celcius   #menyimpan hasil dari fungsi ini\n",
    "\n",
    "def konvert_fk(suhu_f):\n",
    "    '''Mengkonversi suhu dari fahrenheit ke kelvin'''\n",
    "    f_kelvin = konvert_fc(suhu_f) + 273.15   \n",
    "    #rumus konversi fahrenheit ke kelvin dengan bantuan fungsi konvert_fc \n",
    "    return f_kelvin   #menyimpan hasil dari fungsi ini\n",
    "\n",
    "suhu_f = 80   #input nilai suhu fahrenheit\n",
    "fc = konvert_fc(suhu_f)   #menjalankan fungsi konversi fahrenheit ke celcius\n",
    "fk = konvert_fk(suhu_f)   #menjalankan fungsi konversi fahrenheit ke kelvin\n",
    "print(f'{suhu_f} degree fahrenheit is equal to {fc:.2f} degree celcius')   \n",
    "#output dari fungsi konversi fahrenheit to celcius\n",
    "print(f'{suhu_f} degree fahrenheit is equal to {fk:.2f} kelvin')   \n",
    "#output dari fungsi konversi fahrenheit to kelvin"
   ]
  }
 ],
 "metadata": {
  "kernelspec": {
   "display_name": "Python 3.9.12 ('base')",
   "language": "python",
   "name": "python3"
  },
  "language_info": {
   "codemirror_mode": {
    "name": "ipython",
    "version": 3
   },
   "file_extension": ".py",
   "mimetype": "text/x-python",
   "name": "python",
   "nbconvert_exporter": "python",
   "pygments_lexer": "ipython3",
   "version": "3.9.12"
  },
  "orig_nbformat": 4,
  "vscode": {
   "interpreter": {
    "hash": "cf222b8a245eb29bee3b460393575987629655e73ab8896d67c96c1e560c9ea9"
   }
  }
 },
 "nbformat": 4,
 "nbformat_minor": 2
}
