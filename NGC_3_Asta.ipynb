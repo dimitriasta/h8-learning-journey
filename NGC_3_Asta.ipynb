{
 "cells": [
  {
   "cell_type": "code",
   "execution_count": 8,
   "metadata": {},
   "outputs": [
    {
     "name": "stdout",
     "output_type": "stream",
     "text": [
      "100 degree celsius is equal to 373.15 kelvin\n",
      "100 kelvin is equal to -173.15 degree celsius\n"
     ]
    }
   ],
   "source": [
    "def konvert_ck(suhu):\n",
    "    '''Mengkonversi suhu dari celsius ke kelvin'''\n",
    "    kelvin = suhu + 273.15   #rumus konversi celsius ke kelvin\n",
    "    return kelvin   #menyimpan hasil dari fungsi ini\n",
    "\n",
    "def konvert_kc(suhu):\n",
    "    '''Mengkonversi suhu dari kelvin ke celcius'''\n",
    "    celsius = suhu - 273.15   #rumus konversi kelvin ke celsius\n",
    "    return celsius   #menyimpan hasil dari fungsi ini\n",
    "\n",
    "suhu = 100   #input nilai suhu\n",
    "ck = konvert_ck(suhu)   #menjalankan fungsi konversi celsius ke kelvin\n",
    "kc = konvert_kc(suhu)   #menjalankan fungsi konversi kelvin ke celsius\n",
    "print(f'{suhu} degree celsius is equal to {ck:.2f} kelvin')   \n",
    "#output dari fungsi konversi celsius to kelvin\n",
    "print(f'{suhu} kelvin is equal to {kc:.2f} degree celsius')   \n",
    "#output dari fungsi konversi kelvin to celsius"
   ]
  },
  {
   "cell_type": "code",
   "execution_count": 13,
   "metadata": {},
   "outputs": [
    {
     "name": "stdout",
     "output_type": "stream",
     "text": [
      "33 degree celsius is equal to 91.40 degree fahrenheit\n",
      "306 kelvin is equal to 91.13 degree fahrenheit\n"
     ]
    }
   ],
   "source": [
    "def konvert_cf(celsius):\n",
    "    '''Mengkonversi suhu dari celsius ke fahrenheit'''\n",
    "    c_fahrenheit = celsius * 1.8 +  32   #rumus konversi celsius ke fahrenheit\n",
    "    print(f\"{celsius} degree celsius is equal to {c_fahrenheit:.2f} degree fahrenheit\")\n",
    "    \n",
    "\n",
    "def konvert_kf(kelvin):\n",
    "    '''Mengkonversi suhu dari kelvin ke fahrenheit'''\n",
    "    k_fahrenheit = konvert_kc(kelvin) * 1.8 + 32 \n",
    "    #rumus konversi kelvin ke fahrenheit dengan bantuan fungsi konvert_kc\n",
    "    print(f\"{kelvin} kelvin is equal to {k_fahrenheit:.2f} degree fahrenheit\")\n",
    "    \n",
    "\n",
    "celsius = 33   #input nilai suhu celsius\n",
    "kelvin = 306   #input nilai suhu kelvin\n",
    "konvert_cf(celsius)   #menjalankan fungsi konversi celsius ke fahrenheit\n",
    "konvert_kf(kelvin)   #menjalankan fungsi konversi kelvin ke fahrenheit"
   ]
  },
  {
   "cell_type": "code",
   "execution_count": 17,
   "metadata": {},
   "outputs": [
    {
     "name": "stdout",
     "output_type": "stream",
     "text": [
      "80 degree fahrenheit is equal to 26.67 degree celsius\n",
      "80 degree fahrenheit is equal to 299.82 kelvin\n"
     ]
    }
   ],
   "source": [
    "def konvert_fc(suhu_f):\n",
    "    '''Mengkonversi suhu dari fahrenheit ke celsius'''\n",
    "    f_celsius = (suhu_f - 32) / 1.8  #rumus konversi fahrenheit ke celsius\n",
    "    return f_celsius   #menyimpan hasil dari fungsi ini\n",
    "\n",
    "def konvert_fk(suhu_f):\n",
    "    '''Mengkonversi suhu dari fahrenheit ke kelvin'''\n",
    "    f_kelvin = konvert_fc(suhu_f) + 273.15   \n",
    "    #rumus konversi fahrenheit ke kelvin dengan bantuan fungsi konvert_fc \n",
    "    return f_kelvin   #menyimpan hasil dari fungsi ini\n",
    "\n",
    "suhu_f = 80   #input nilai suhu fahrenheit\n",
    "fc = konvert_fc(suhu_f)   #menjalankan fungsi konversi fahrenheit ke celsius\n",
    "fk = konvert_fk(suhu_f)   #menjalankan fungsi konversi fahrenheit ke kelvin\n",
    "print(f'{suhu_f} degree fahrenheit is equal to {fc:.2f} degree celsius')   \n",
    "#output dari fungsi konversi fahrenheit to celsius\n",
    "print(f'{suhu_f} degree fahrenheit is equal to {fk:.2f} kelvin')   \n",
    "#output dari fungsi konversi fahrenheit to kelvin"
   ]
  }
 ],
 "metadata": {
  "kernelspec": {
   "display_name": "Python 3.9.12 ('base')",
   "language": "python",
   "name": "python3"
  },
  "language_info": {
   "codemirror_mode": {
    "name": "ipython",
    "version": 3
   },
   "file_extension": ".py",
   "mimetype": "text/x-python",
   "name": "python",
   "nbconvert_exporter": "python",
   "pygments_lexer": "ipython3",
   "version": "3.9.12"
  },
  "orig_nbformat": 4,
  "vscode": {
   "interpreter": {
    "hash": "cf222b8a245eb29bee3b460393575987629655e73ab8896d67c96c1e560c9ea9"
   }
  }
 },
 "nbformat": 4,
 "nbformat_minor": 2
}
