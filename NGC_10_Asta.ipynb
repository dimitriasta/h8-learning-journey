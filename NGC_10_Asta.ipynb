{
 "cells": [
  {
   "cell_type": "code",
   "execution_count": 1,
   "metadata": {},
   "outputs": [],
   "source": [
    "import pandas as pd"
   ]
  },
  {
   "cell_type": "code",
   "execution_count": 3,
   "metadata": {},
   "outputs": [],
   "source": [
    "df = pd.read_csv('covid_19_indonesia_time_series_all.csv')"
   ]
  },
  {
   "cell_type": "code",
   "execution_count": 7,
   "metadata": {},
   "outputs": [],
   "source": [
    "pd.set_option('display.max.columns', None)"
   ]
  },
  {
   "cell_type": "code",
   "execution_count": 8,
   "metadata": {},
   "outputs": [
    {
     "data": {
      "text/html": [
       "<div>\n",
       "<style scoped>\n",
       "    .dataframe tbody tr th:only-of-type {\n",
       "        vertical-align: middle;\n",
       "    }\n",
       "\n",
       "    .dataframe tbody tr th {\n",
       "        vertical-align: top;\n",
       "    }\n",
       "\n",
       "    .dataframe thead th {\n",
       "        text-align: right;\n",
       "    }\n",
       "</style>\n",
       "<table border=\"1\" class=\"dataframe\">\n",
       "  <thead>\n",
       "    <tr style=\"text-align: right;\">\n",
       "      <th></th>\n",
       "      <th>Date</th>\n",
       "      <th>Location ISO Code</th>\n",
       "      <th>Location</th>\n",
       "      <th>New Cases</th>\n",
       "      <th>New Deaths</th>\n",
       "      <th>New Recovered</th>\n",
       "      <th>New Active Cases</th>\n",
       "      <th>Total Cases</th>\n",
       "      <th>Total Deaths</th>\n",
       "      <th>Total Recovered</th>\n",
       "      <th>Total Active Cases</th>\n",
       "      <th>Location Level</th>\n",
       "      <th>City or Regency</th>\n",
       "      <th>Province</th>\n",
       "      <th>Country</th>\n",
       "      <th>Continent</th>\n",
       "      <th>Island</th>\n",
       "      <th>Time Zone</th>\n",
       "      <th>Special Status</th>\n",
       "      <th>Total Regencies</th>\n",
       "      <th>Total Cities</th>\n",
       "      <th>Total Districts</th>\n",
       "      <th>Total Urban Villages</th>\n",
       "      <th>Total Rural Villages</th>\n",
       "      <th>Area (km2)</th>\n",
       "      <th>Population</th>\n",
       "      <th>Population Density</th>\n",
       "      <th>Longitude</th>\n",
       "      <th>Latitude</th>\n",
       "      <th>New Cases per Million</th>\n",
       "      <th>Total Cases per Million</th>\n",
       "      <th>New Deaths per Million</th>\n",
       "      <th>Total Deaths per Million</th>\n",
       "      <th>Total Deaths per 100rb</th>\n",
       "      <th>Case Fatality Rate</th>\n",
       "      <th>Case Recovered Rate</th>\n",
       "      <th>Growth Factor of New Cases</th>\n",
       "      <th>Growth Factor of New Deaths</th>\n",
       "    </tr>\n",
       "  </thead>\n",
       "  <tbody>\n",
       "    <tr>\n",
       "      <th>0</th>\n",
       "      <td>3/1/2020</td>\n",
       "      <td>ID-JK</td>\n",
       "      <td>DKI Jakarta</td>\n",
       "      <td>2</td>\n",
       "      <td>0</td>\n",
       "      <td>0</td>\n",
       "      <td>2</td>\n",
       "      <td>39</td>\n",
       "      <td>20</td>\n",
       "      <td>41</td>\n",
       "      <td>-22</td>\n",
       "      <td>Province</td>\n",
       "      <td>NaN</td>\n",
       "      <td>DKI Jakarta</td>\n",
       "      <td>Indonesia</td>\n",
       "      <td>Asia</td>\n",
       "      <td>Jawa</td>\n",
       "      <td>UTC+07:00</td>\n",
       "      <td>Daerah Khusus Ibu Kota</td>\n",
       "      <td>1</td>\n",
       "      <td>5.0</td>\n",
       "      <td>44</td>\n",
       "      <td>267.0</td>\n",
       "      <td>NaN</td>\n",
       "      <td>664</td>\n",
       "      <td>10846145</td>\n",
       "      <td>16334.31</td>\n",
       "      <td>106.836118</td>\n",
       "      <td>-6.204699</td>\n",
       "      <td>0.18</td>\n",
       "      <td>3.60</td>\n",
       "      <td>0.0</td>\n",
       "      <td>1.84</td>\n",
       "      <td>0.18</td>\n",
       "      <td>51.28%</td>\n",
       "      <td>105.13%</td>\n",
       "      <td>NaN</td>\n",
       "      <td>NaN</td>\n",
       "    </tr>\n",
       "    <tr>\n",
       "      <th>1</th>\n",
       "      <td>3/2/2020</td>\n",
       "      <td>ID-JK</td>\n",
       "      <td>DKI Jakarta</td>\n",
       "      <td>2</td>\n",
       "      <td>0</td>\n",
       "      <td>0</td>\n",
       "      <td>2</td>\n",
       "      <td>41</td>\n",
       "      <td>20</td>\n",
       "      <td>41</td>\n",
       "      <td>-20</td>\n",
       "      <td>Province</td>\n",
       "      <td>NaN</td>\n",
       "      <td>DKI Jakarta</td>\n",
       "      <td>Indonesia</td>\n",
       "      <td>Asia</td>\n",
       "      <td>Jawa</td>\n",
       "      <td>UTC+07:00</td>\n",
       "      <td>Daerah Khusus Ibu Kota</td>\n",
       "      <td>1</td>\n",
       "      <td>5.0</td>\n",
       "      <td>44</td>\n",
       "      <td>267.0</td>\n",
       "      <td>NaN</td>\n",
       "      <td>664</td>\n",
       "      <td>10846145</td>\n",
       "      <td>16334.31</td>\n",
       "      <td>106.836118</td>\n",
       "      <td>-6.204699</td>\n",
       "      <td>0.18</td>\n",
       "      <td>3.78</td>\n",
       "      <td>0.0</td>\n",
       "      <td>1.84</td>\n",
       "      <td>0.18</td>\n",
       "      <td>48.78%</td>\n",
       "      <td>100.00%</td>\n",
       "      <td>1.0</td>\n",
       "      <td>1.0</td>\n",
       "    </tr>\n",
       "    <tr>\n",
       "      <th>2</th>\n",
       "      <td>3/2/2020</td>\n",
       "      <td>IDN</td>\n",
       "      <td>Indonesia</td>\n",
       "      <td>2</td>\n",
       "      <td>0</td>\n",
       "      <td>0</td>\n",
       "      <td>2</td>\n",
       "      <td>2</td>\n",
       "      <td>0</td>\n",
       "      <td>0</td>\n",
       "      <td>2</td>\n",
       "      <td>Country</td>\n",
       "      <td>NaN</td>\n",
       "      <td>NaN</td>\n",
       "      <td>Indonesia</td>\n",
       "      <td>Asia</td>\n",
       "      <td>NaN</td>\n",
       "      <td>NaN</td>\n",
       "      <td>NaN</td>\n",
       "      <td>416</td>\n",
       "      <td>98.0</td>\n",
       "      <td>7230</td>\n",
       "      <td>8488.0</td>\n",
       "      <td>74953.0</td>\n",
       "      <td>1916907</td>\n",
       "      <td>265185520</td>\n",
       "      <td>138.34</td>\n",
       "      <td>113.921327</td>\n",
       "      <td>-0.789275</td>\n",
       "      <td>0.01</td>\n",
       "      <td>0.01</td>\n",
       "      <td>0.0</td>\n",
       "      <td>0.00</td>\n",
       "      <td>0.00</td>\n",
       "      <td>0.00%</td>\n",
       "      <td>0.00%</td>\n",
       "      <td>NaN</td>\n",
       "      <td>NaN</td>\n",
       "    </tr>\n",
       "  </tbody>\n",
       "</table>\n",
       "</div>"
      ],
      "text/plain": [
       "       Date Location ISO Code     Location  New Cases  New Deaths  \\\n",
       "0  3/1/2020             ID-JK  DKI Jakarta          2           0   \n",
       "1  3/2/2020             ID-JK  DKI Jakarta          2           0   \n",
       "2  3/2/2020               IDN    Indonesia          2           0   \n",
       "\n",
       "   New Recovered  New Active Cases  Total Cases  Total Deaths  \\\n",
       "0              0                 2           39            20   \n",
       "1              0                 2           41            20   \n",
       "2              0                 2            2             0   \n",
       "\n",
       "   Total Recovered  Total Active Cases Location Level  City or Regency  \\\n",
       "0               41                 -22       Province              NaN   \n",
       "1               41                 -20       Province              NaN   \n",
       "2                0                   2        Country              NaN   \n",
       "\n",
       "      Province    Country Continent Island  Time Zone          Special Status  \\\n",
       "0  DKI Jakarta  Indonesia      Asia   Jawa  UTC+07:00  Daerah Khusus Ibu Kota   \n",
       "1  DKI Jakarta  Indonesia      Asia   Jawa  UTC+07:00  Daerah Khusus Ibu Kota   \n",
       "2          NaN  Indonesia      Asia    NaN        NaN                     NaN   \n",
       "\n",
       "   Total Regencies  Total Cities  Total Districts  Total Urban Villages  \\\n",
       "0                1           5.0               44                 267.0   \n",
       "1                1           5.0               44                 267.0   \n",
       "2              416          98.0             7230                8488.0   \n",
       "\n",
       "   Total Rural Villages  Area (km2)  Population  Population Density  \\\n",
       "0                   NaN         664    10846145            16334.31   \n",
       "1                   NaN         664    10846145            16334.31   \n",
       "2               74953.0     1916907   265185520              138.34   \n",
       "\n",
       "    Longitude  Latitude  New Cases per Million  Total Cases per Million  \\\n",
       "0  106.836118 -6.204699                   0.18                     3.60   \n",
       "1  106.836118 -6.204699                   0.18                     3.78   \n",
       "2  113.921327 -0.789275                   0.01                     0.01   \n",
       "\n",
       "   New Deaths per Million  Total Deaths per Million  Total Deaths per 100rb  \\\n",
       "0                     0.0                      1.84                    0.18   \n",
       "1                     0.0                      1.84                    0.18   \n",
       "2                     0.0                      0.00                    0.00   \n",
       "\n",
       "  Case Fatality Rate Case Recovered Rate  Growth Factor of New Cases  \\\n",
       "0             51.28%             105.13%                         NaN   \n",
       "1             48.78%             100.00%                         1.0   \n",
       "2              0.00%               0.00%                         NaN   \n",
       "\n",
       "   Growth Factor of New Deaths  \n",
       "0                          NaN  \n",
       "1                          1.0  \n",
       "2                          NaN  "
      ]
     },
     "execution_count": 8,
     "metadata": {},
     "output_type": "execute_result"
    }
   ],
   "source": [
    "df.head(3)"
   ]
  },
  {
   "cell_type": "code",
   "execution_count": 11,
   "metadata": {},
   "outputs": [
    {
     "data": {
      "text/plain": [
       "391.29357966818327"
      ]
     },
     "execution_count": 11,
     "metadata": {},
     "output_type": "execute_result"
    }
   ],
   "source": [
    "df['New Cases'].mean()"
   ]
  },
  {
   "cell_type": "code",
   "execution_count": 12,
   "metadata": {},
   "outputs": [
    {
     "data": {
      "text/plain": [
       "41.0"
      ]
     },
     "execution_count": 12,
     "metadata": {},
     "output_type": "execute_result"
    }
   ],
   "source": [
    "df['New Cases'].median()"
   ]
  },
  {
   "cell_type": "code",
   "execution_count": 13,
   "metadata": {},
   "outputs": [
    {
     "data": {
      "text/plain": [
       "0    0\n",
       "Name: New Cases, dtype: int64"
      ]
     },
     "execution_count": 13,
     "metadata": {},
     "output_type": "execute_result"
    }
   ],
   "source": [
    "df['New Cases'].mode()"
   ]
  },
  {
   "cell_type": "markdown",
   "metadata": {},
   "source": [
    "pada data ini lebih tepat jika menggunakan nilai mean\n",
    "\n",
    "rata-rata new cases adalah sebanyak 391.293 cases"
   ]
  },
  {
   "cell_type": "code",
   "execution_count": 14,
   "metadata": {},
   "outputs": [
    {
     "data": {
      "text/plain": [
       "4303762.028247603"
      ]
     },
     "execution_count": 14,
     "metadata": {},
     "output_type": "execute_result"
    }
   ],
   "source": [
    "df['New Cases'].var()"
   ]
  },
  {
   "cell_type": "code",
   "execution_count": 15,
   "metadata": {},
   "outputs": [
    {
     "data": {
      "text/plain": [
       "2074.551042574659"
      ]
     },
     "execution_count": 15,
     "metadata": {},
     "output_type": "execute_result"
    }
   ],
   "source": [
    "df['New Cases'].std()"
   ]
  },
  {
   "cell_type": "markdown",
   "metadata": {},
   "source": [
    "Kolom New Deaths"
   ]
  },
  {
   "cell_type": "code",
   "execution_count": 17,
   "metadata": {},
   "outputs": [
    {
     "data": {
      "text/plain": [
       "13.220414541109426"
      ]
     },
     "execution_count": 17,
     "metadata": {},
     "output_type": "execute_result"
    }
   ],
   "source": [
    "df['New Deaths'].mean()"
   ]
  },
  {
   "cell_type": "code",
   "execution_count": 18,
   "metadata": {},
   "outputs": [
    {
     "data": {
      "text/plain": [
       "5849.590720280108"
      ]
     },
     "execution_count": 18,
     "metadata": {},
     "output_type": "execute_result"
    }
   ],
   "source": [
    "df['New Deaths'].var()"
   ]
  },
  {
   "cell_type": "code",
   "execution_count": 19,
   "metadata": {},
   "outputs": [
    {
     "data": {
      "text/plain": [
       "76.48261711186476"
      ]
     },
     "execution_count": 19,
     "metadata": {},
     "output_type": "execute_result"
    }
   ],
   "source": [
    "df['New Deaths'].std()"
   ]
  }
 ],
 "metadata": {
  "kernelspec": {
   "display_name": "Python 3.9.12 ('base')",
   "language": "python",
   "name": "python3"
  },
  "language_info": {
   "codemirror_mode": {
    "name": "ipython",
    "version": 3
   },
   "file_extension": ".py",
   "mimetype": "text/x-python",
   "name": "python",
   "nbconvert_exporter": "python",
   "pygments_lexer": "ipython3",
   "version": "3.9.12"
  },
  "orig_nbformat": 4,
  "vscode": {
   "interpreter": {
    "hash": "cf222b8a245eb29bee3b460393575987629655e73ab8896d67c96c1e560c9ea9"
   }
  }
 },
 "nbformat": 4,
 "nbformat_minor": 2
}
