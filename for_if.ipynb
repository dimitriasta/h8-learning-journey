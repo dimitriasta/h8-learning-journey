{
 "cells": [
  {
   "cell_type": "code",
   "execution_count": 32,
   "metadata": {},
   "outputs": [
    {
     "name": "stdout",
     "output_type": "stream",
     "text": [
      "Nama kamu andi Nilai kamu 80, Grade kamu adalah A\n",
      "Nama kamu budi Nilai kamu 10, Grade kamu adalah E\n",
      "Nama kamu cinta Nilai kamu 50, Grade kamu adalah D\n",
      "Nama kamu dodo Nilai kamu 45, Grade kamu adalah D\n"
     ]
    }
   ],
   "source": [
    "df = {'andi': 80, 'budi': 10, 'cinta': 50, 'dodo': 45}\n",
    "\n",
    "for i in df:\n",
    "    if df[i] >= 80 and df[i] <= 100:\n",
    "        print(f\"Nama kamu {i} Nilai kamu {df[i]}, Grade kamu adalah A\")\n",
    "    elif df[i] >= 70 and df[i] < 80:\n",
    "        print(f\"Nama kamu {i} Nilai kamu {df[i]}, Grade kamu adalah B\")\n",
    "    elif df[i] >= 60 and df[i] < 70:\n",
    "        print(f\"Nama kamu {i} Nilai kamu {df[i]}, Grade kamu adalah C\")\n",
    "    elif df[i] >= 40 and df[i] < 60:\n",
    "        print(f\"Nama kamu {i} Nilai kamu {df[i]}, Grade kamu adalah D\")\n",
    "    elif df[i] >= 0 and df[i] < 40:\n",
    "        print(f\"Nama kamu {i} Nilai kamu {df[i]}, Grade kamu adalah E\")\n",
    "    else:\n",
    "        print(\"Kamu belum memasukkan nilai\")\n"
   ]
  }
 ],
 "metadata": {
  "kernelspec": {
   "display_name": "Python 3.10.4 64-bit",
   "language": "python",
   "name": "python3"
  },
  "language_info": {
   "codemirror_mode": {
    "name": "ipython",
    "version": 3
   },
   "file_extension": ".py",
   "mimetype": "text/x-python",
   "name": "python",
   "nbconvert_exporter": "python",
   "pygments_lexer": "ipython3",
   "version": "3.10.4"
  },
  "orig_nbformat": 4,
  "vscode": {
   "interpreter": {
    "hash": "916dbcbb3f70747c44a77c7bcd40155683ae19c65e1c03b4aa3499c5328201f1"
   }
  }
 },
 "nbformat": 4,
 "nbformat_minor": 2
}
