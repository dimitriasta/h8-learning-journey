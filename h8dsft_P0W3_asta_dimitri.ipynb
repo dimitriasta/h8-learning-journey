{
  "nbformat": 4,
  "nbformat_minor": 0,
  "metadata": {
    "colab": {
      "name": "h8dsft_P0W3_asta_dimitri.ipynb",
      "provenance": [],
      "toc_visible": true,
      "authorship_tag": "ABX9TyM8La8OU6B3jjKjZl6eLvKL",
      "include_colab_link": true
    },
    "kernelspec": {
      "name": "python3",
      "display_name": "Python 3"
    },
    "language_info": {
      "name": "python"
    }
  },
  "cells": [
    {
      "cell_type": "markdown",
      "metadata": {
        "id": "view-in-github",
        "colab_type": "text"
      },
      "source": [
        "<a href=\"https://colab.research.google.com/github/dimitriasta/h8-learning-journey/blob/master/h8dsft_P0W3_asta_dimitri.ipynb\" target=\"_parent\"><img src=\"https://colab.research.google.com/assets/colab-badge.svg\" alt=\"Open In Colab\"/></a>"
      ]
    },
    {
      "cell_type": "markdown",
      "source": [
        "# GRADED CHALLENGE 3"
      ],
      "metadata": {
        "id": "DJaK_kePaaEH"
      }
    },
    {
      "cell_type": "markdown",
      "source": [
        "# INTRODUCTION\n",
        "\n",
        "Hello! Welcome to my Notebook.\n",
        "\n",
        "Notebook ini merupakan bagian dari tugas *Graded Challenge 3* yang dibuat oleh **Asta Zeska Dimitri** dari Batch **001-HCK**."
      ],
      "metadata": {
        "id": "EE5gQKkbafhp"
      }
    },
    {
      "cell_type": "markdown",
      "source": [
        "## Background\n",
        "\n",
        "The Look yang merupakan salah satu platform e-commerce terbesar di planet Mars. Sebagai bagian dari tim Data Scientist untuk The Look, kami diminta untuk mengevaluasi performa transaksi dan penjualan pada periode Q1-Q2 tahun 2022. Hasil yang diharapkan adalah ditemukannya masalah yang terjadi dan kemudian dapat ditemukan solusi agar masalah ini tidak terjadi lagi kedepannya."
      ],
      "metadata": {
        "id": "W_PthD1HsirN"
      }
    },
    {
      "cell_type": "markdown",
      "source": [
        "## The Data\n",
        "\n",
        "Untuk data yang digunakan kali ini adalah dataset `bigquery-public-data.thelook_ecommerce`. Data ini tersedia di *Google Cloud Platform* dan merupakan bagian dari *BigQuery Public Datasets*.\n",
        "Untuk tabel yang digunakan adalah tabel orders, order_items, dan events.\n",
        "\n",
        "Untuk mengkoneksikan notebook ini dengan dataset yang ingin digunakan, digunakan code seperti dibawah ini:"
      ],
      "metadata": {
        "id": "vpTmiBvqsjDf"
      }
    },
    {
      "cell_type": "code",
      "execution_count": 1,
      "metadata": {
        "colab": {
          "base_uri": "https://localhost:8080/"
        },
        "id": "0sR7K23iNXr7",
        "outputId": "5361471d-c307-439d-9581-b121325143cb"
      },
      "outputs": [
        {
          "output_type": "stream",
          "name": "stdout",
          "text": [
            "Authenticated\n"
          ]
        }
      ],
      "source": [
        "from google.colab import auth\n",
        "auth.authenticate_user()\n",
        "print('Authenticated')\n",
        "\n",
        "from google.cloud import bigquery\n",
        "\n",
        "project_id = \"hacktiv8-asta\"\n",
        "client = bigquery.Client(project=project_id)"
      ]
    },
    {
      "cell_type": "markdown",
      "source": [
        "# PROBLEMS ANALYSIS"
      ],
      "metadata": {
        "id": "fODwHJZ1m3Xf"
      }
    },
    {
      "cell_type": "markdown",
      "source": [
        "### 1. Berapa persen jumlah user yang retention dari Januari - Juni 2022 dari total keseluruhan user yang ada?"
      ],
      "metadata": {
        "id": "Qs4tDND_oK8F"
      }
    },
    {
      "cell_type": "code",
      "source": [
        "# Nomor 1\n",
        "\n",
        "client.query('''\n",
        "\n",
        "SELECT (\n",
        "  SELECT COUNT(cust_category)\n",
        "  FROM (\n",
        "    SELECT user_id AS cust_id, COUNT(order_id) AS total_order,\n",
        "    CASE WHEN COUNT(order_id) >= 3 THEN 'loyal_customer' ELSE 'regular_customer' END AS cust_category\n",
        "    FROM `bigquery-public-data.thelook_ecommerce.orders`\n",
        "    WHERE created_at BETWEEN '2022-01-01 00:00:00 UTC' AND '2022-06-30 23:59:59 UTC'\n",
        "    GROUP BY user_id HAVING cust_category = 'loyal_customer'))/\n",
        "       (\n",
        "    SELECT COUNT(cust_id)\n",
        "    FROM (\n",
        "      SELECT user_id AS cust_id, COUNT(order_id) AS total_order\n",
        "      FROM `bigquery-public-data.thelook_ecommerce.orders`\n",
        "      WHERE created_at BETWEEN '2022-01-01 00:00:00 UTC' AND '2022-06-30 23:59:59 UTC'\n",
        "      GROUP BY user_id))\n",
        "* 100 AS loyal_percentage\n",
        "\n",
        "''').to_dataframe()"
      ],
      "metadata": {
        "colab": {
          "base_uri": "https://localhost:8080/",
          "height": 81
        },
        "id": "JnFGap2Tuo2X",
        "outputId": "d6da9ed5-42fe-4127-9972-5888f9ad4ab3"
      },
      "execution_count": 2,
      "outputs": [
        {
          "output_type": "execute_result",
          "data": {
            "text/plain": [
              "   loyal_percentage\n",
              "0          3.429814"
            ],
            "text/html": [
              "\n",
              "  <div id=\"df-96fa7ade-f317-4663-b624-abd8fffe932d\">\n",
              "    <div class=\"colab-df-container\">\n",
              "      <div>\n",
              "<style scoped>\n",
              "    .dataframe tbody tr th:only-of-type {\n",
              "        vertical-align: middle;\n",
              "    }\n",
              "\n",
              "    .dataframe tbody tr th {\n",
              "        vertical-align: top;\n",
              "    }\n",
              "\n",
              "    .dataframe thead th {\n",
              "        text-align: right;\n",
              "    }\n",
              "</style>\n",
              "<table border=\"1\" class=\"dataframe\">\n",
              "  <thead>\n",
              "    <tr style=\"text-align: right;\">\n",
              "      <th></th>\n",
              "      <th>loyal_percentage</th>\n",
              "    </tr>\n",
              "  </thead>\n",
              "  <tbody>\n",
              "    <tr>\n",
              "      <th>0</th>\n",
              "      <td>3.429814</td>\n",
              "    </tr>\n",
              "  </tbody>\n",
              "</table>\n",
              "</div>\n",
              "      <button class=\"colab-df-convert\" onclick=\"convertToInteractive('df-96fa7ade-f317-4663-b624-abd8fffe932d')\"\n",
              "              title=\"Convert this dataframe to an interactive table.\"\n",
              "              style=\"display:none;\">\n",
              "        \n",
              "  <svg xmlns=\"http://www.w3.org/2000/svg\" height=\"24px\"viewBox=\"0 0 24 24\"\n",
              "       width=\"24px\">\n",
              "    <path d=\"M0 0h24v24H0V0z\" fill=\"none\"/>\n",
              "    <path d=\"M18.56 5.44l.94 2.06.94-2.06 2.06-.94-2.06-.94-.94-2.06-.94 2.06-2.06.94zm-11 1L8.5 8.5l.94-2.06 2.06-.94-2.06-.94L8.5 2.5l-.94 2.06-2.06.94zm10 10l.94 2.06.94-2.06 2.06-.94-2.06-.94-.94-2.06-.94 2.06-2.06.94z\"/><path d=\"M17.41 7.96l-1.37-1.37c-.4-.4-.92-.59-1.43-.59-.52 0-1.04.2-1.43.59L10.3 9.45l-7.72 7.72c-.78.78-.78 2.05 0 2.83L4 21.41c.39.39.9.59 1.41.59.51 0 1.02-.2 1.41-.59l7.78-7.78 2.81-2.81c.8-.78.8-2.07 0-2.86zM5.41 20L4 18.59l7.72-7.72 1.47 1.35L5.41 20z\"/>\n",
              "  </svg>\n",
              "      </button>\n",
              "      \n",
              "  <style>\n",
              "    .colab-df-container {\n",
              "      display:flex;\n",
              "      flex-wrap:wrap;\n",
              "      gap: 12px;\n",
              "    }\n",
              "\n",
              "    .colab-df-convert {\n",
              "      background-color: #E8F0FE;\n",
              "      border: none;\n",
              "      border-radius: 50%;\n",
              "      cursor: pointer;\n",
              "      display: none;\n",
              "      fill: #1967D2;\n",
              "      height: 32px;\n",
              "      padding: 0 0 0 0;\n",
              "      width: 32px;\n",
              "    }\n",
              "\n",
              "    .colab-df-convert:hover {\n",
              "      background-color: #E2EBFA;\n",
              "      box-shadow: 0px 1px 2px rgba(60, 64, 67, 0.3), 0px 1px 3px 1px rgba(60, 64, 67, 0.15);\n",
              "      fill: #174EA6;\n",
              "    }\n",
              "\n",
              "    [theme=dark] .colab-df-convert {\n",
              "      background-color: #3B4455;\n",
              "      fill: #D2E3FC;\n",
              "    }\n",
              "\n",
              "    [theme=dark] .colab-df-convert:hover {\n",
              "      background-color: #434B5C;\n",
              "      box-shadow: 0px 1px 3px 1px rgba(0, 0, 0, 0.15);\n",
              "      filter: drop-shadow(0px 1px 2px rgba(0, 0, 0, 0.3));\n",
              "      fill: #FFFFFF;\n",
              "    }\n",
              "  </style>\n",
              "\n",
              "      <script>\n",
              "        const buttonEl =\n",
              "          document.querySelector('#df-96fa7ade-f317-4663-b624-abd8fffe932d button.colab-df-convert');\n",
              "        buttonEl.style.display =\n",
              "          google.colab.kernel.accessAllowed ? 'block' : 'none';\n",
              "\n",
              "        async function convertToInteractive(key) {\n",
              "          const element = document.querySelector('#df-96fa7ade-f317-4663-b624-abd8fffe932d');\n",
              "          const dataTable =\n",
              "            await google.colab.kernel.invokeFunction('convertToInteractive',\n",
              "                                                     [key], {});\n",
              "          if (!dataTable) return;\n",
              "\n",
              "          const docLinkHtml = 'Like what you see? Visit the ' +\n",
              "            '<a target=\"_blank\" href=https://colab.research.google.com/notebooks/data_table.ipynb>data table notebook</a>'\n",
              "            + ' to learn more about interactive tables.';\n",
              "          element.innerHTML = '';\n",
              "          dataTable['output_type'] = 'display_data';\n",
              "          await google.colab.output.renderOutput(dataTable, element);\n",
              "          const docLink = document.createElement('div');\n",
              "          docLink.innerHTML = docLinkHtml;\n",
              "          element.appendChild(docLink);\n",
              "        }\n",
              "      </script>\n",
              "    </div>\n",
              "  </div>\n",
              "  "
            ]
          },
          "metadata": {},
          "execution_count": 2
        }
      ]
    },
    {
      "cell_type": "markdown",
      "source": [
        "Untuk Customer Retention kali ini, kami mengklasifikasi customer berdasarkan jumlah transaksinya, dimana untuk transaksi >= 3 akan digolongkan sebagai 'Loyal Customer' sedangkan untuk transaksi < 3 akan digolongkan sebagai 'Regular Customer. Pada periode Q1-Q2 tahun 2022 ini, jumlah Loyal Customer pada platform The Look hanya sekitar 3.4% saja. Tentu nilai ini masih sangat kecil dan tidak sesuai harapan perusahaan. Kecilnya jumlah Loyal Customer The Look dapat mengindikasikan masih kurang bersaingnya kualitas produk yang ditawarkan ataupun belum maksimalnya customer service yang disediakan, sehingga customer masih ragu-ragu untuk melakukan repeat order di platform The Look.\n"
      ],
      "metadata": {
        "id": "Me3jcGi-xfvq"
      }
    },
    {
      "cell_type": "markdown",
      "source": [
        "### 2. Berapa rata-rata, minimum, dan maksimum jumlah transaksi yang dilakukan oleh user loyal?"
      ],
      "metadata": {
        "id": "tKR5fkX4oSMH"
      }
    },
    {
      "cell_type": "code",
      "source": [
        "# Nomor 2\n",
        "\n",
        "client.query('''\n",
        "\n",
        "SELECT AVG(total_order) AS average_order, MIN(total_order) AS minimum_order, MAX(total_order) AS maximum_order\n",
        "FROM (\n",
        "  SELECT user_id AS cust_id, COUNT(order_id) AS total_order,\n",
        "  CASE WHEN COUNT(order_id) >= 3 THEN 'loyal_customer' ELSE 'regular_customer' END AS cust_category\n",
        "  FROM `bigquery-public-data.thelook_ecommerce.orders`\n",
        "  WHERE created_at BETWEEN '2022-01-01 00:00:00 UTC' AND '2022-06-30 23:59:59 UTC'\n",
        "  GROUP BY user_id HAVING cust_category = 'loyal_customer'\n",
        "  )\n",
        "\n",
        "''').to_dataframe()"
      ],
      "metadata": {
        "colab": {
          "base_uri": "https://localhost:8080/",
          "height": 81
        },
        "id": "dW3Z3tz7LXJq",
        "outputId": "206aa581-10b8-4c14-fb4a-6921c047ef91"
      },
      "execution_count": 3,
      "outputs": [
        {
          "output_type": "execute_result",
          "data": {
            "text/plain": [
              "   average_order  minimum_order  maximum_order\n",
              "0       3.176916              3              4"
            ],
            "text/html": [
              "\n",
              "  <div id=\"df-c1089e65-a65b-4a4b-b557-f3d7e87bd962\">\n",
              "    <div class=\"colab-df-container\">\n",
              "      <div>\n",
              "<style scoped>\n",
              "    .dataframe tbody tr th:only-of-type {\n",
              "        vertical-align: middle;\n",
              "    }\n",
              "\n",
              "    .dataframe tbody tr th {\n",
              "        vertical-align: top;\n",
              "    }\n",
              "\n",
              "    .dataframe thead th {\n",
              "        text-align: right;\n",
              "    }\n",
              "</style>\n",
              "<table border=\"1\" class=\"dataframe\">\n",
              "  <thead>\n",
              "    <tr style=\"text-align: right;\">\n",
              "      <th></th>\n",
              "      <th>average_order</th>\n",
              "      <th>minimum_order</th>\n",
              "      <th>maximum_order</th>\n",
              "    </tr>\n",
              "  </thead>\n",
              "  <tbody>\n",
              "    <tr>\n",
              "      <th>0</th>\n",
              "      <td>3.176916</td>\n",
              "      <td>3</td>\n",
              "      <td>4</td>\n",
              "    </tr>\n",
              "  </tbody>\n",
              "</table>\n",
              "</div>\n",
              "      <button class=\"colab-df-convert\" onclick=\"convertToInteractive('df-c1089e65-a65b-4a4b-b557-f3d7e87bd962')\"\n",
              "              title=\"Convert this dataframe to an interactive table.\"\n",
              "              style=\"display:none;\">\n",
              "        \n",
              "  <svg xmlns=\"http://www.w3.org/2000/svg\" height=\"24px\"viewBox=\"0 0 24 24\"\n",
              "       width=\"24px\">\n",
              "    <path d=\"M0 0h24v24H0V0z\" fill=\"none\"/>\n",
              "    <path d=\"M18.56 5.44l.94 2.06.94-2.06 2.06-.94-2.06-.94-.94-2.06-.94 2.06-2.06.94zm-11 1L8.5 8.5l.94-2.06 2.06-.94-2.06-.94L8.5 2.5l-.94 2.06-2.06.94zm10 10l.94 2.06.94-2.06 2.06-.94-2.06-.94-.94-2.06-.94 2.06-2.06.94z\"/><path d=\"M17.41 7.96l-1.37-1.37c-.4-.4-.92-.59-1.43-.59-.52 0-1.04.2-1.43.59L10.3 9.45l-7.72 7.72c-.78.78-.78 2.05 0 2.83L4 21.41c.39.39.9.59 1.41.59.51 0 1.02-.2 1.41-.59l7.78-7.78 2.81-2.81c.8-.78.8-2.07 0-2.86zM5.41 20L4 18.59l7.72-7.72 1.47 1.35L5.41 20z\"/>\n",
              "  </svg>\n",
              "      </button>\n",
              "      \n",
              "  <style>\n",
              "    .colab-df-container {\n",
              "      display:flex;\n",
              "      flex-wrap:wrap;\n",
              "      gap: 12px;\n",
              "    }\n",
              "\n",
              "    .colab-df-convert {\n",
              "      background-color: #E8F0FE;\n",
              "      border: none;\n",
              "      border-radius: 50%;\n",
              "      cursor: pointer;\n",
              "      display: none;\n",
              "      fill: #1967D2;\n",
              "      height: 32px;\n",
              "      padding: 0 0 0 0;\n",
              "      width: 32px;\n",
              "    }\n",
              "\n",
              "    .colab-df-convert:hover {\n",
              "      background-color: #E2EBFA;\n",
              "      box-shadow: 0px 1px 2px rgba(60, 64, 67, 0.3), 0px 1px 3px 1px rgba(60, 64, 67, 0.15);\n",
              "      fill: #174EA6;\n",
              "    }\n",
              "\n",
              "    [theme=dark] .colab-df-convert {\n",
              "      background-color: #3B4455;\n",
              "      fill: #D2E3FC;\n",
              "    }\n",
              "\n",
              "    [theme=dark] .colab-df-convert:hover {\n",
              "      background-color: #434B5C;\n",
              "      box-shadow: 0px 1px 3px 1px rgba(0, 0, 0, 0.15);\n",
              "      filter: drop-shadow(0px 1px 2px rgba(0, 0, 0, 0.3));\n",
              "      fill: #FFFFFF;\n",
              "    }\n",
              "  </style>\n",
              "\n",
              "      <script>\n",
              "        const buttonEl =\n",
              "          document.querySelector('#df-c1089e65-a65b-4a4b-b557-f3d7e87bd962 button.colab-df-convert');\n",
              "        buttonEl.style.display =\n",
              "          google.colab.kernel.accessAllowed ? 'block' : 'none';\n",
              "\n",
              "        async function convertToInteractive(key) {\n",
              "          const element = document.querySelector('#df-c1089e65-a65b-4a4b-b557-f3d7e87bd962');\n",
              "          const dataTable =\n",
              "            await google.colab.kernel.invokeFunction('convertToInteractive',\n",
              "                                                     [key], {});\n",
              "          if (!dataTable) return;\n",
              "\n",
              "          const docLinkHtml = 'Like what you see? Visit the ' +\n",
              "            '<a target=\"_blank\" href=https://colab.research.google.com/notebooks/data_table.ipynb>data table notebook</a>'\n",
              "            + ' to learn more about interactive tables.';\n",
              "          element.innerHTML = '';\n",
              "          dataTable['output_type'] = 'display_data';\n",
              "          await google.colab.output.renderOutput(dataTable, element);\n",
              "          const docLink = document.createElement('div');\n",
              "          docLink.innerHTML = docLinkHtml;\n",
              "          element.appendChild(docLink);\n",
              "        }\n",
              "      </script>\n",
              "    </div>\n",
              "  </div>\n",
              "  "
            ]
          },
          "metadata": {},
          "execution_count": 3
        }
      ]
    },
    {
      "cell_type": "markdown",
      "source": [
        "Bahkan dapat dilihat bahwa Loyal Customer pada periode Q1-Q2 tahun 2022 ini baru melakukan maksimal 4 transaksi. Dengan nilai rata-ratanya yang lebih dekat dengan nilai minimum, yaitu sekitar 3.18. Terlihat bahwa mayoritas Loyal Customer baru melakukan 3 transaksi saja, hanya sedikit yang melakukan transaksi > 3 kali di platform The Look. Dapat disimpulkan juga bahwa Loyal Customer pun masih merasa ragu-ragu untuk melakukan transaksi di platform The Look."
      ],
      "metadata": {
        "id": "-AWE46CH1M2a"
      }
    },
    {
      "cell_type": "markdown",
      "source": [
        "### 3. Berapa rata-rata, minimum, dan maksimum uang yang dihabiskan oleh user loyal? "
      ],
      "metadata": {
        "id": "cuK0NVzEoj23"
      }
    },
    {
      "cell_type": "code",
      "source": [
        "# Nomor 3\n",
        "\n",
        "client.query('''\n",
        "\n",
        "SELECT AVG(total_sales) AS average_sales, MIN(total_sales) AS minimum_sales, MAX(total_sales) AS maximum_sales\n",
        "FROM (\n",
        "  SELECT cust_id, SUM(order_items.sale_price) AS total_sales\n",
        "  FROM (\n",
        "    SELECT user_id AS cust_id, COUNT(order_id) AS total_order,\n",
        "    CASE WHEN COUNT(order_id) >= 3 THEN 'loyal_customer' ELSE 'regular_customer' END AS cust_category\n",
        "    FROM `bigquery-public-data.thelook_ecommerce.orders`\n",
        "    WHERE created_at BETWEEN '2022-01-01 00:00:00 UTC' AND '2022-06-30 23:59:59 UTC'\n",
        "    GROUP BY user_id HAVING cust_category = 'loyal_customer')\n",
        "  LEFT JOIN `bigquery-public-data.thelook_ecommerce.order_items` AS order_items\n",
        "  ON cust_id = order_items.user_id\n",
        "  GROUP BY cust_id\n",
        "  )\n",
        "\n",
        "\n",
        "''').to_dataframe()"
      ],
      "metadata": {
        "colab": {
          "base_uri": "https://localhost:8080/",
          "height": 81
        },
        "id": "UxM7Gs9bXJFK",
        "outputId": "a62fb24c-e4e9-4044-d4ed-9d866cc5ef6e"
      },
      "execution_count": 4,
      "outputs": [
        {
          "output_type": "execute_result",
          "data": {
            "text/plain": [
              "   average_sales  minimum_sales  maximum_sales\n",
              "0     320.044031          40.99    1502.250001"
            ],
            "text/html": [
              "\n",
              "  <div id=\"df-73b94450-cb07-4f87-804a-44c306e42c98\">\n",
              "    <div class=\"colab-df-container\">\n",
              "      <div>\n",
              "<style scoped>\n",
              "    .dataframe tbody tr th:only-of-type {\n",
              "        vertical-align: middle;\n",
              "    }\n",
              "\n",
              "    .dataframe tbody tr th {\n",
              "        vertical-align: top;\n",
              "    }\n",
              "\n",
              "    .dataframe thead th {\n",
              "        text-align: right;\n",
              "    }\n",
              "</style>\n",
              "<table border=\"1\" class=\"dataframe\">\n",
              "  <thead>\n",
              "    <tr style=\"text-align: right;\">\n",
              "      <th></th>\n",
              "      <th>average_sales</th>\n",
              "      <th>minimum_sales</th>\n",
              "      <th>maximum_sales</th>\n",
              "    </tr>\n",
              "  </thead>\n",
              "  <tbody>\n",
              "    <tr>\n",
              "      <th>0</th>\n",
              "      <td>320.044031</td>\n",
              "      <td>40.99</td>\n",
              "      <td>1502.250001</td>\n",
              "    </tr>\n",
              "  </tbody>\n",
              "</table>\n",
              "</div>\n",
              "      <button class=\"colab-df-convert\" onclick=\"convertToInteractive('df-73b94450-cb07-4f87-804a-44c306e42c98')\"\n",
              "              title=\"Convert this dataframe to an interactive table.\"\n",
              "              style=\"display:none;\">\n",
              "        \n",
              "  <svg xmlns=\"http://www.w3.org/2000/svg\" height=\"24px\"viewBox=\"0 0 24 24\"\n",
              "       width=\"24px\">\n",
              "    <path d=\"M0 0h24v24H0V0z\" fill=\"none\"/>\n",
              "    <path d=\"M18.56 5.44l.94 2.06.94-2.06 2.06-.94-2.06-.94-.94-2.06-.94 2.06-2.06.94zm-11 1L8.5 8.5l.94-2.06 2.06-.94-2.06-.94L8.5 2.5l-.94 2.06-2.06.94zm10 10l.94 2.06.94-2.06 2.06-.94-2.06-.94-.94-2.06-.94 2.06-2.06.94z\"/><path d=\"M17.41 7.96l-1.37-1.37c-.4-.4-.92-.59-1.43-.59-.52 0-1.04.2-1.43.59L10.3 9.45l-7.72 7.72c-.78.78-.78 2.05 0 2.83L4 21.41c.39.39.9.59 1.41.59.51 0 1.02-.2 1.41-.59l7.78-7.78 2.81-2.81c.8-.78.8-2.07 0-2.86zM5.41 20L4 18.59l7.72-7.72 1.47 1.35L5.41 20z\"/>\n",
              "  </svg>\n",
              "      </button>\n",
              "      \n",
              "  <style>\n",
              "    .colab-df-container {\n",
              "      display:flex;\n",
              "      flex-wrap:wrap;\n",
              "      gap: 12px;\n",
              "    }\n",
              "\n",
              "    .colab-df-convert {\n",
              "      background-color: #E8F0FE;\n",
              "      border: none;\n",
              "      border-radius: 50%;\n",
              "      cursor: pointer;\n",
              "      display: none;\n",
              "      fill: #1967D2;\n",
              "      height: 32px;\n",
              "      padding: 0 0 0 0;\n",
              "      width: 32px;\n",
              "    }\n",
              "\n",
              "    .colab-df-convert:hover {\n",
              "      background-color: #E2EBFA;\n",
              "      box-shadow: 0px 1px 2px rgba(60, 64, 67, 0.3), 0px 1px 3px 1px rgba(60, 64, 67, 0.15);\n",
              "      fill: #174EA6;\n",
              "    }\n",
              "\n",
              "    [theme=dark] .colab-df-convert {\n",
              "      background-color: #3B4455;\n",
              "      fill: #D2E3FC;\n",
              "    }\n",
              "\n",
              "    [theme=dark] .colab-df-convert:hover {\n",
              "      background-color: #434B5C;\n",
              "      box-shadow: 0px 1px 3px 1px rgba(0, 0, 0, 0.15);\n",
              "      filter: drop-shadow(0px 1px 2px rgba(0, 0, 0, 0.3));\n",
              "      fill: #FFFFFF;\n",
              "    }\n",
              "  </style>\n",
              "\n",
              "      <script>\n",
              "        const buttonEl =\n",
              "          document.querySelector('#df-73b94450-cb07-4f87-804a-44c306e42c98 button.colab-df-convert');\n",
              "        buttonEl.style.display =\n",
              "          google.colab.kernel.accessAllowed ? 'block' : 'none';\n",
              "\n",
              "        async function convertToInteractive(key) {\n",
              "          const element = document.querySelector('#df-73b94450-cb07-4f87-804a-44c306e42c98');\n",
              "          const dataTable =\n",
              "            await google.colab.kernel.invokeFunction('convertToInteractive',\n",
              "                                                     [key], {});\n",
              "          if (!dataTable) return;\n",
              "\n",
              "          const docLinkHtml = 'Like what you see? Visit the ' +\n",
              "            '<a target=\"_blank\" href=https://colab.research.google.com/notebooks/data_table.ipynb>data table notebook</a>'\n",
              "            + ' to learn more about interactive tables.';\n",
              "          element.innerHTML = '';\n",
              "          dataTable['output_type'] = 'display_data';\n",
              "          await google.colab.output.renderOutput(dataTable, element);\n",
              "          const docLink = document.createElement('div');\n",
              "          docLink.innerHTML = docLinkHtml;\n",
              "          element.appendChild(docLink);\n",
              "        }\n",
              "      </script>\n",
              "    </div>\n",
              "  </div>\n",
              "  "
            ]
          },
          "metadata": {},
          "execution_count": 4
        }
      ]
    },
    {
      "cell_type": "markdown",
      "source": [
        "Pada periode Q1-Q2 tahun 2022 ini, persebaran uang yang dibelanjakan Loyal Customer sudah cukup beragam dari 40.99-1502.25 dollars. Dengan rata-ratanya sekitar 320 dollars masih terlihat bahwa persebarannya lebih condong ke nilai minimum. Bisa disimpulkan juga bahwa Loyal Customer belum terlalu berani untuk membelanjakan uang yang lebih banyak di platform The Look."
      ],
      "metadata": {
        "id": "Lp4GSVMf4Ak9"
      }
    },
    {
      "cell_type": "markdown",
      "source": [
        "### 4. Berasal dari sumber trafik mana saja kebanyakan user loyal akses platform The Look?"
      ],
      "metadata": {
        "id": "S3yPH2h9ou3E"
      }
    },
    {
      "cell_type": "code",
      "source": [
        "# Nomor 4\n",
        "\n",
        "client.query('''\n",
        "\n",
        "SELECT events.traffic_source, COUNT(events.traffic_source) AS total_traffic\n",
        "FROM (\n",
        "  SELECT user_id AS cust_id, COUNT(order_id) AS total_order,\n",
        "  CASE WHEN COUNT(order_id) >= 3 THEN 'loyal_customer' ELSE 'regular_customer' END AS cust_category\n",
        "  FROM `bigquery-public-data.thelook_ecommerce.orders`\n",
        "  WHERE created_at BETWEEN '2022-01-01 00:00:00 UTC' AND '2022-06-30 23:59:59 UTC'\n",
        "  GROUP BY user_id HAVING cust_category = 'loyal_customer')\n",
        "LEFT JOIN `bigquery-public-data.thelook_ecommerce.events` AS events\n",
        "ON cust_id = events.user_id\n",
        "GROUP BY events.traffic_source\n",
        "\n",
        "''').to_dataframe()"
      ],
      "metadata": {
        "colab": {
          "base_uri": "https://localhost:8080/",
          "height": 206
        },
        "id": "usarnkSqoyvg",
        "outputId": "fd43ea4a-7ee1-41cf-dbf2-1db1063834a6"
      },
      "execution_count": 5,
      "outputs": [
        {
          "output_type": "execute_result",
          "data": {
            "text/plain": [
              "  traffic_source  total_traffic\n",
              "0        Adwords          12076\n",
              "1          Email          18691\n",
              "2       Facebook           3911\n",
              "3        YouTube           4171\n",
              "4        Organic           2109"
            ],
            "text/html": [
              "\n",
              "  <div id=\"df-11225f06-990a-457c-ab0e-660cb6c67f4d\">\n",
              "    <div class=\"colab-df-container\">\n",
              "      <div>\n",
              "<style scoped>\n",
              "    .dataframe tbody tr th:only-of-type {\n",
              "        vertical-align: middle;\n",
              "    }\n",
              "\n",
              "    .dataframe tbody tr th {\n",
              "        vertical-align: top;\n",
              "    }\n",
              "\n",
              "    .dataframe thead th {\n",
              "        text-align: right;\n",
              "    }\n",
              "</style>\n",
              "<table border=\"1\" class=\"dataframe\">\n",
              "  <thead>\n",
              "    <tr style=\"text-align: right;\">\n",
              "      <th></th>\n",
              "      <th>traffic_source</th>\n",
              "      <th>total_traffic</th>\n",
              "    </tr>\n",
              "  </thead>\n",
              "  <tbody>\n",
              "    <tr>\n",
              "      <th>0</th>\n",
              "      <td>Adwords</td>\n",
              "      <td>12076</td>\n",
              "    </tr>\n",
              "    <tr>\n",
              "      <th>1</th>\n",
              "      <td>Email</td>\n",
              "      <td>18691</td>\n",
              "    </tr>\n",
              "    <tr>\n",
              "      <th>2</th>\n",
              "      <td>Facebook</td>\n",
              "      <td>3911</td>\n",
              "    </tr>\n",
              "    <tr>\n",
              "      <th>3</th>\n",
              "      <td>YouTube</td>\n",
              "      <td>4171</td>\n",
              "    </tr>\n",
              "    <tr>\n",
              "      <th>4</th>\n",
              "      <td>Organic</td>\n",
              "      <td>2109</td>\n",
              "    </tr>\n",
              "  </tbody>\n",
              "</table>\n",
              "</div>\n",
              "      <button class=\"colab-df-convert\" onclick=\"convertToInteractive('df-11225f06-990a-457c-ab0e-660cb6c67f4d')\"\n",
              "              title=\"Convert this dataframe to an interactive table.\"\n",
              "              style=\"display:none;\">\n",
              "        \n",
              "  <svg xmlns=\"http://www.w3.org/2000/svg\" height=\"24px\"viewBox=\"0 0 24 24\"\n",
              "       width=\"24px\">\n",
              "    <path d=\"M0 0h24v24H0V0z\" fill=\"none\"/>\n",
              "    <path d=\"M18.56 5.44l.94 2.06.94-2.06 2.06-.94-2.06-.94-.94-2.06-.94 2.06-2.06.94zm-11 1L8.5 8.5l.94-2.06 2.06-.94-2.06-.94L8.5 2.5l-.94 2.06-2.06.94zm10 10l.94 2.06.94-2.06 2.06-.94-2.06-.94-.94-2.06-.94 2.06-2.06.94z\"/><path d=\"M17.41 7.96l-1.37-1.37c-.4-.4-.92-.59-1.43-.59-.52 0-1.04.2-1.43.59L10.3 9.45l-7.72 7.72c-.78.78-.78 2.05 0 2.83L4 21.41c.39.39.9.59 1.41.59.51 0 1.02-.2 1.41-.59l7.78-7.78 2.81-2.81c.8-.78.8-2.07 0-2.86zM5.41 20L4 18.59l7.72-7.72 1.47 1.35L5.41 20z\"/>\n",
              "  </svg>\n",
              "      </button>\n",
              "      \n",
              "  <style>\n",
              "    .colab-df-container {\n",
              "      display:flex;\n",
              "      flex-wrap:wrap;\n",
              "      gap: 12px;\n",
              "    }\n",
              "\n",
              "    .colab-df-convert {\n",
              "      background-color: #E8F0FE;\n",
              "      border: none;\n",
              "      border-radius: 50%;\n",
              "      cursor: pointer;\n",
              "      display: none;\n",
              "      fill: #1967D2;\n",
              "      height: 32px;\n",
              "      padding: 0 0 0 0;\n",
              "      width: 32px;\n",
              "    }\n",
              "\n",
              "    .colab-df-convert:hover {\n",
              "      background-color: #E2EBFA;\n",
              "      box-shadow: 0px 1px 2px rgba(60, 64, 67, 0.3), 0px 1px 3px 1px rgba(60, 64, 67, 0.15);\n",
              "      fill: #174EA6;\n",
              "    }\n",
              "\n",
              "    [theme=dark] .colab-df-convert {\n",
              "      background-color: #3B4455;\n",
              "      fill: #D2E3FC;\n",
              "    }\n",
              "\n",
              "    [theme=dark] .colab-df-convert:hover {\n",
              "      background-color: #434B5C;\n",
              "      box-shadow: 0px 1px 3px 1px rgba(0, 0, 0, 0.15);\n",
              "      filter: drop-shadow(0px 1px 2px rgba(0, 0, 0, 0.3));\n",
              "      fill: #FFFFFF;\n",
              "    }\n",
              "  </style>\n",
              "\n",
              "      <script>\n",
              "        const buttonEl =\n",
              "          document.querySelector('#df-11225f06-990a-457c-ab0e-660cb6c67f4d button.colab-df-convert');\n",
              "        buttonEl.style.display =\n",
              "          google.colab.kernel.accessAllowed ? 'block' : 'none';\n",
              "\n",
              "        async function convertToInteractive(key) {\n",
              "          const element = document.querySelector('#df-11225f06-990a-457c-ab0e-660cb6c67f4d');\n",
              "          const dataTable =\n",
              "            await google.colab.kernel.invokeFunction('convertToInteractive',\n",
              "                                                     [key], {});\n",
              "          if (!dataTable) return;\n",
              "\n",
              "          const docLinkHtml = 'Like what you see? Visit the ' +\n",
              "            '<a target=\"_blank\" href=https://colab.research.google.com/notebooks/data_table.ipynb>data table notebook</a>'\n",
              "            + ' to learn more about interactive tables.';\n",
              "          element.innerHTML = '';\n",
              "          dataTable['output_type'] = 'display_data';\n",
              "          await google.colab.output.renderOutput(dataTable, element);\n",
              "          const docLink = document.createElement('div');\n",
              "          docLink.innerHTML = docLinkHtml;\n",
              "          element.appendChild(docLink);\n",
              "        }\n",
              "      </script>\n",
              "    </div>\n",
              "  </div>\n",
              "  "
            ]
          },
          "metadata": {},
          "execution_count": 5
        }
      ]
    },
    {
      "cell_type": "markdown",
      "source": [
        "Dapat dilihat bahwa sumber trafik dari Loyal Customer The Look paling banyak melalui Email lalu disusul oleh Adwords/Google Ads. Lalu platform seperti Facebook dan Youtube tidak terlalu banyak menyumbang trafik ke The Look. Dari data ini dapat terlihat karakteristik/kebiasaan Loyal Customer dari The Look mayoritas masih konservatif, bukan yang terlalu sering melihat social media. Data ini dapat menjadi pertimbangan untuk memilih lewat media/platform apa saja kita ingin menaruh iklan-iklan The Look agar hasilnya lebih efektif."
      ],
      "metadata": {
        "id": "2mJGpuG-8Md1"
      }
    },
    {
      "cell_type": "markdown",
      "source": [
        "### 5. Apakah ada hubungan antara sumber trafik dengan loyal atau tidaknya seorang user? "
      ],
      "metadata": {
        "id": "8T23KbUso3Ot"
      }
    },
    {
      "cell_type": "code",
      "source": [
        "# Nomor 5\n",
        "\n",
        "traffic = client.query('''\n",
        "\n",
        "SELECT events.traffic_source, loyalty\n",
        "FROM (\n",
        "  SELECT user_id AS cust_id, COUNT(order_id) AS total_order,\n",
        "  CASE WHEN COUNT(order_id) >= 3 THEN 'Yes' ELSE 'No' END AS loyalty\n",
        "  FROM `bigquery-public-data.thelook_ecommerce.orders`\n",
        "  WHERE created_at BETWEEN '2022-01-01 00:00:00 UTC' AND '2022-06-30 23:59:59 UTC'\n",
        "  GROUP BY user_id)\n",
        "LEFT JOIN `bigquery-public-data.thelook_ecommerce.events` AS events\n",
        "ON cust_id = events.id\n",
        "\n",
        "''').to_dataframe()\n",
        "\n",
        "traffic"
      ],
      "metadata": {
        "colab": {
          "base_uri": "https://localhost:8080/",
          "height": 424
        },
        "id": "sNHsbIkAvXyG",
        "outputId": "5f6646a0-3b7c-48c3-a9bc-5c9b82c2b4b8"
      },
      "execution_count": 6,
      "outputs": [
        {
          "output_type": "execute_result",
          "data": {
            "text/plain": [
              "      traffic_source loyalty\n",
              "0              Email      No\n",
              "1              Email      No\n",
              "2              Email      No\n",
              "3              Email      No\n",
              "4              Email      No\n",
              "...              ...     ...\n",
              "30813       Facebook      No\n",
              "30814       Facebook      No\n",
              "30815       Facebook      No\n",
              "30816       Facebook      No\n",
              "30817       Facebook      No\n",
              "\n",
              "[30818 rows x 2 columns]"
            ],
            "text/html": [
              "\n",
              "  <div id=\"df-a841f390-8c3e-4e72-aa12-afa072e2f9f3\">\n",
              "    <div class=\"colab-df-container\">\n",
              "      <div>\n",
              "<style scoped>\n",
              "    .dataframe tbody tr th:only-of-type {\n",
              "        vertical-align: middle;\n",
              "    }\n",
              "\n",
              "    .dataframe tbody tr th {\n",
              "        vertical-align: top;\n",
              "    }\n",
              "\n",
              "    .dataframe thead th {\n",
              "        text-align: right;\n",
              "    }\n",
              "</style>\n",
              "<table border=\"1\" class=\"dataframe\">\n",
              "  <thead>\n",
              "    <tr style=\"text-align: right;\">\n",
              "      <th></th>\n",
              "      <th>traffic_source</th>\n",
              "      <th>loyalty</th>\n",
              "    </tr>\n",
              "  </thead>\n",
              "  <tbody>\n",
              "    <tr>\n",
              "      <th>0</th>\n",
              "      <td>Email</td>\n",
              "      <td>No</td>\n",
              "    </tr>\n",
              "    <tr>\n",
              "      <th>1</th>\n",
              "      <td>Email</td>\n",
              "      <td>No</td>\n",
              "    </tr>\n",
              "    <tr>\n",
              "      <th>2</th>\n",
              "      <td>Email</td>\n",
              "      <td>No</td>\n",
              "    </tr>\n",
              "    <tr>\n",
              "      <th>3</th>\n",
              "      <td>Email</td>\n",
              "      <td>No</td>\n",
              "    </tr>\n",
              "    <tr>\n",
              "      <th>4</th>\n",
              "      <td>Email</td>\n",
              "      <td>No</td>\n",
              "    </tr>\n",
              "    <tr>\n",
              "      <th>...</th>\n",
              "      <td>...</td>\n",
              "      <td>...</td>\n",
              "    </tr>\n",
              "    <tr>\n",
              "      <th>30813</th>\n",
              "      <td>Facebook</td>\n",
              "      <td>No</td>\n",
              "    </tr>\n",
              "    <tr>\n",
              "      <th>30814</th>\n",
              "      <td>Facebook</td>\n",
              "      <td>No</td>\n",
              "    </tr>\n",
              "    <tr>\n",
              "      <th>30815</th>\n",
              "      <td>Facebook</td>\n",
              "      <td>No</td>\n",
              "    </tr>\n",
              "    <tr>\n",
              "      <th>30816</th>\n",
              "      <td>Facebook</td>\n",
              "      <td>No</td>\n",
              "    </tr>\n",
              "    <tr>\n",
              "      <th>30817</th>\n",
              "      <td>Facebook</td>\n",
              "      <td>No</td>\n",
              "    </tr>\n",
              "  </tbody>\n",
              "</table>\n",
              "<p>30818 rows × 2 columns</p>\n",
              "</div>\n",
              "      <button class=\"colab-df-convert\" onclick=\"convertToInteractive('df-a841f390-8c3e-4e72-aa12-afa072e2f9f3')\"\n",
              "              title=\"Convert this dataframe to an interactive table.\"\n",
              "              style=\"display:none;\">\n",
              "        \n",
              "  <svg xmlns=\"http://www.w3.org/2000/svg\" height=\"24px\"viewBox=\"0 0 24 24\"\n",
              "       width=\"24px\">\n",
              "    <path d=\"M0 0h24v24H0V0z\" fill=\"none\"/>\n",
              "    <path d=\"M18.56 5.44l.94 2.06.94-2.06 2.06-.94-2.06-.94-.94-2.06-.94 2.06-2.06.94zm-11 1L8.5 8.5l.94-2.06 2.06-.94-2.06-.94L8.5 2.5l-.94 2.06-2.06.94zm10 10l.94 2.06.94-2.06 2.06-.94-2.06-.94-.94-2.06-.94 2.06-2.06.94z\"/><path d=\"M17.41 7.96l-1.37-1.37c-.4-.4-.92-.59-1.43-.59-.52 0-1.04.2-1.43.59L10.3 9.45l-7.72 7.72c-.78.78-.78 2.05 0 2.83L4 21.41c.39.39.9.59 1.41.59.51 0 1.02-.2 1.41-.59l7.78-7.78 2.81-2.81c.8-.78.8-2.07 0-2.86zM5.41 20L4 18.59l7.72-7.72 1.47 1.35L5.41 20z\"/>\n",
              "  </svg>\n",
              "      </button>\n",
              "      \n",
              "  <style>\n",
              "    .colab-df-container {\n",
              "      display:flex;\n",
              "      flex-wrap:wrap;\n",
              "      gap: 12px;\n",
              "    }\n",
              "\n",
              "    .colab-df-convert {\n",
              "      background-color: #E8F0FE;\n",
              "      border: none;\n",
              "      border-radius: 50%;\n",
              "      cursor: pointer;\n",
              "      display: none;\n",
              "      fill: #1967D2;\n",
              "      height: 32px;\n",
              "      padding: 0 0 0 0;\n",
              "      width: 32px;\n",
              "    }\n",
              "\n",
              "    .colab-df-convert:hover {\n",
              "      background-color: #E2EBFA;\n",
              "      box-shadow: 0px 1px 2px rgba(60, 64, 67, 0.3), 0px 1px 3px 1px rgba(60, 64, 67, 0.15);\n",
              "      fill: #174EA6;\n",
              "    }\n",
              "\n",
              "    [theme=dark] .colab-df-convert {\n",
              "      background-color: #3B4455;\n",
              "      fill: #D2E3FC;\n",
              "    }\n",
              "\n",
              "    [theme=dark] .colab-df-convert:hover {\n",
              "      background-color: #434B5C;\n",
              "      box-shadow: 0px 1px 3px 1px rgba(0, 0, 0, 0.15);\n",
              "      filter: drop-shadow(0px 1px 2px rgba(0, 0, 0, 0.3));\n",
              "      fill: #FFFFFF;\n",
              "    }\n",
              "  </style>\n",
              "\n",
              "      <script>\n",
              "        const buttonEl =\n",
              "          document.querySelector('#df-a841f390-8c3e-4e72-aa12-afa072e2f9f3 button.colab-df-convert');\n",
              "        buttonEl.style.display =\n",
              "          google.colab.kernel.accessAllowed ? 'block' : 'none';\n",
              "\n",
              "        async function convertToInteractive(key) {\n",
              "          const element = document.querySelector('#df-a841f390-8c3e-4e72-aa12-afa072e2f9f3');\n",
              "          const dataTable =\n",
              "            await google.colab.kernel.invokeFunction('convertToInteractive',\n",
              "                                                     [key], {});\n",
              "          if (!dataTable) return;\n",
              "\n",
              "          const docLinkHtml = 'Like what you see? Visit the ' +\n",
              "            '<a target=\"_blank\" href=https://colab.research.google.com/notebooks/data_table.ipynb>data table notebook</a>'\n",
              "            + ' to learn more about interactive tables.';\n",
              "          element.innerHTML = '';\n",
              "          dataTable['output_type'] = 'display_data';\n",
              "          await google.colab.output.renderOutput(dataTable, element);\n",
              "          const docLink = document.createElement('div');\n",
              "          docLink.innerHTML = docLinkHtml;\n",
              "          element.appendChild(docLink);\n",
              "        }\n",
              "      </script>\n",
              "    </div>\n",
              "  </div>\n",
              "  "
            ]
          },
          "metadata": {},
          "execution_count": 6
        }
      ]
    },
    {
      "cell_type": "code",
      "source": [
        "import pandas as pd\n",
        "from scipy import stats"
      ],
      "metadata": {
        "id": "AEV9Mxetz-sx"
      },
      "execution_count": 7,
      "outputs": []
    },
    {
      "cell_type": "markdown",
      "source": [
        "**H0 : There is no relation between traffic source and customers loyalty**\n",
        "\n",
        "**H1 : There is a relation between traffic source and customers loyalty**"
      ],
      "metadata": {
        "id": "HH7960UT0K-k"
      }
    },
    {
      "cell_type": "code",
      "source": [
        "contingency_table=pd.crosstab(traffic[\"traffic_source\"], traffic[\"loyalty\"])\n",
        "contingency_table"
      ],
      "metadata": {
        "colab": {
          "base_uri": "https://localhost:8080/",
          "height": 237
        },
        "id": "IJzWQNEb0CQS",
        "outputId": "424254b7-8e70-4dd1-e10b-eed32367db40"
      },
      "execution_count": 8,
      "outputs": [
        {
          "output_type": "execute_result",
          "data": {
            "text/plain": [
              "loyalty            No  Yes\n",
              "traffic_source            \n",
              "Adwords          8934  309\n",
              "Email           13415  482\n",
              "Facebook         2895  112\n",
              "Organic          1481   65\n",
              "YouTube          3036   89"
            ],
            "text/html": [
              "\n",
              "  <div id=\"df-fd7e5014-cc6d-4e1d-a02f-33b78d9c67da\">\n",
              "    <div class=\"colab-df-container\">\n",
              "      <div>\n",
              "<style scoped>\n",
              "    .dataframe tbody tr th:only-of-type {\n",
              "        vertical-align: middle;\n",
              "    }\n",
              "\n",
              "    .dataframe tbody tr th {\n",
              "        vertical-align: top;\n",
              "    }\n",
              "\n",
              "    .dataframe thead th {\n",
              "        text-align: right;\n",
              "    }\n",
              "</style>\n",
              "<table border=\"1\" class=\"dataframe\">\n",
              "  <thead>\n",
              "    <tr style=\"text-align: right;\">\n",
              "      <th>loyalty</th>\n",
              "      <th>No</th>\n",
              "      <th>Yes</th>\n",
              "    </tr>\n",
              "    <tr>\n",
              "      <th>traffic_source</th>\n",
              "      <th></th>\n",
              "      <th></th>\n",
              "    </tr>\n",
              "  </thead>\n",
              "  <tbody>\n",
              "    <tr>\n",
              "      <th>Adwords</th>\n",
              "      <td>8934</td>\n",
              "      <td>309</td>\n",
              "    </tr>\n",
              "    <tr>\n",
              "      <th>Email</th>\n",
              "      <td>13415</td>\n",
              "      <td>482</td>\n",
              "    </tr>\n",
              "    <tr>\n",
              "      <th>Facebook</th>\n",
              "      <td>2895</td>\n",
              "      <td>112</td>\n",
              "    </tr>\n",
              "    <tr>\n",
              "      <th>Organic</th>\n",
              "      <td>1481</td>\n",
              "      <td>65</td>\n",
              "    </tr>\n",
              "    <tr>\n",
              "      <th>YouTube</th>\n",
              "      <td>3036</td>\n",
              "      <td>89</td>\n",
              "    </tr>\n",
              "  </tbody>\n",
              "</table>\n",
              "</div>\n",
              "      <button class=\"colab-df-convert\" onclick=\"convertToInteractive('df-fd7e5014-cc6d-4e1d-a02f-33b78d9c67da')\"\n",
              "              title=\"Convert this dataframe to an interactive table.\"\n",
              "              style=\"display:none;\">\n",
              "        \n",
              "  <svg xmlns=\"http://www.w3.org/2000/svg\" height=\"24px\"viewBox=\"0 0 24 24\"\n",
              "       width=\"24px\">\n",
              "    <path d=\"M0 0h24v24H0V0z\" fill=\"none\"/>\n",
              "    <path d=\"M18.56 5.44l.94 2.06.94-2.06 2.06-.94-2.06-.94-.94-2.06-.94 2.06-2.06.94zm-11 1L8.5 8.5l.94-2.06 2.06-.94-2.06-.94L8.5 2.5l-.94 2.06-2.06.94zm10 10l.94 2.06.94-2.06 2.06-.94-2.06-.94-.94-2.06-.94 2.06-2.06.94z\"/><path d=\"M17.41 7.96l-1.37-1.37c-.4-.4-.92-.59-1.43-.59-.52 0-1.04.2-1.43.59L10.3 9.45l-7.72 7.72c-.78.78-.78 2.05 0 2.83L4 21.41c.39.39.9.59 1.41.59.51 0 1.02-.2 1.41-.59l7.78-7.78 2.81-2.81c.8-.78.8-2.07 0-2.86zM5.41 20L4 18.59l7.72-7.72 1.47 1.35L5.41 20z\"/>\n",
              "  </svg>\n",
              "      </button>\n",
              "      \n",
              "  <style>\n",
              "    .colab-df-container {\n",
              "      display:flex;\n",
              "      flex-wrap:wrap;\n",
              "      gap: 12px;\n",
              "    }\n",
              "\n",
              "    .colab-df-convert {\n",
              "      background-color: #E8F0FE;\n",
              "      border: none;\n",
              "      border-radius: 50%;\n",
              "      cursor: pointer;\n",
              "      display: none;\n",
              "      fill: #1967D2;\n",
              "      height: 32px;\n",
              "      padding: 0 0 0 0;\n",
              "      width: 32px;\n",
              "    }\n",
              "\n",
              "    .colab-df-convert:hover {\n",
              "      background-color: #E2EBFA;\n",
              "      box-shadow: 0px 1px 2px rgba(60, 64, 67, 0.3), 0px 1px 3px 1px rgba(60, 64, 67, 0.15);\n",
              "      fill: #174EA6;\n",
              "    }\n",
              "\n",
              "    [theme=dark] .colab-df-convert {\n",
              "      background-color: #3B4455;\n",
              "      fill: #D2E3FC;\n",
              "    }\n",
              "\n",
              "    [theme=dark] .colab-df-convert:hover {\n",
              "      background-color: #434B5C;\n",
              "      box-shadow: 0px 1px 3px 1px rgba(0, 0, 0, 0.15);\n",
              "      filter: drop-shadow(0px 1px 2px rgba(0, 0, 0, 0.3));\n",
              "      fill: #FFFFFF;\n",
              "    }\n",
              "  </style>\n",
              "\n",
              "      <script>\n",
              "        const buttonEl =\n",
              "          document.querySelector('#df-fd7e5014-cc6d-4e1d-a02f-33b78d9c67da button.colab-df-convert');\n",
              "        buttonEl.style.display =\n",
              "          google.colab.kernel.accessAllowed ? 'block' : 'none';\n",
              "\n",
              "        async function convertToInteractive(key) {\n",
              "          const element = document.querySelector('#df-fd7e5014-cc6d-4e1d-a02f-33b78d9c67da');\n",
              "          const dataTable =\n",
              "            await google.colab.kernel.invokeFunction('convertToInteractive',\n",
              "                                                     [key], {});\n",
              "          if (!dataTable) return;\n",
              "\n",
              "          const docLinkHtml = 'Like what you see? Visit the ' +\n",
              "            '<a target=\"_blank\" href=https://colab.research.google.com/notebooks/data_table.ipynb>data table notebook</a>'\n",
              "            + ' to learn more about interactive tables.';\n",
              "          element.innerHTML = '';\n",
              "          dataTable['output_type'] = 'display_data';\n",
              "          await google.colab.output.renderOutput(dataTable, element);\n",
              "          const docLink = document.createElement('div');\n",
              "          docLink.innerHTML = docLinkHtml;\n",
              "          element.appendChild(docLink);\n",
              "        }\n",
              "      </script>\n",
              "    </div>\n",
              "  </div>\n",
              "  "
            ]
          },
          "metadata": {},
          "execution_count": 8
        }
      ]
    },
    {
      "cell_type": "code",
      "source": [
        "stat, p, dof, expected = stats.chi2_contingency(contingency_table)\n",
        "print('p=%.3f' % (p))\n",
        "if p > 0.05:\n",
        "    print('Probably independent')\n",
        "else:\n",
        "    print('Probably dependent')"
      ],
      "metadata": {
        "colab": {
          "base_uri": "https://localhost:8080/"
        },
        "id": "0NP7MdCH2JSx",
        "outputId": "275d4d5a-8976-4f45-d5a2-6d3239826fa5"
      },
      "execution_count": 9,
      "outputs": [
        {
          "output_type": "stream",
          "name": "stdout",
          "text": [
            "p=0.133\n",
            "Probably independent\n"
          ]
        }
      ]
    },
    {
      "cell_type": "markdown",
      "source": [
        "Setelah dilakukan tes hipotesis menggunakan metode chi-square, diketahui bahwa tidak ditemukannya hubungan yang signifikan antara sumber trafik dengan loyalitas customer The Look. Berarti fokus tujuan dari pemasangan iklan di berbagai platform ini adalah untuk menjaring customer-customer baru. Untuk membuat para customer baru ini berubah menjadi Loyal Customer, kita harus melakukan treatment/pelayanan yang tepat agar mereka merasa puas dan nyaman berbelanja di The Look."
      ],
      "metadata": {
        "id": "oQAeEhe8AHCe"
      }
    },
    {
      "cell_type": "markdown",
      "source": [
        "# SUCCESS CRITERIA WITH SMART"
      ],
      "metadata": {
        "id": "dSxTjrRRCk48"
      }
    },
    {
      "cell_type": "markdown",
      "source": [
        "### **Problem Statement:**\n",
        "\n",
        "Selama Q1-Q2 tahun 2022, Loyal Customer The Look yang hanya berjumlah 3.4% masih terlihat ragu-ragu untuk melakukan transaksi ataupun membelanjakan uangnya di platform ini. Hal ini mengindikasikan masih kurang bersaingnya kualitas produk yang ditawarkan ataupun belum maksimalnya customer service yang disediakan. The Look juga belum mampu untuk mengubah para customer baru yang datang dari iklan yang dipasang di berbagai media hingga menjadi Loyal Customer.\n"
      ],
      "metadata": {
        "id": "J81XdiUmC6G_"
      }
    },
    {
      "cell_type": "markdown",
      "source": [
        "\n",
        "### **SMART Goals:**\n",
        "\n",
        "1. Menambah jumlah Loyal Customer The Look sampai 20% pada akhir tahun 2023.\n",
        "2. Meningkatkan rata-rata transaksi Loyal Customer menjadi 12 transaksi per tahun pada tahun 2024.\n",
        "3. Meningkatkan rata-rata uang yang dibelanjakan Loyal Customer menjadi minimal 400 dollars pada Q2 2023.\n",
        "4. Memaksimalkan traffic source untuk menghasilkan paling sedikit 10000 kunjungan ke platform The Look."
      ],
      "metadata": {
        "id": "W1KizCzpOg_K"
      }
    },
    {
      "cell_type": "markdown",
      "source": [
        "### **Plan of Action:**\n",
        "\n",
        "*   Menyediakan layanan customer service prioritas untuk para Loyal Customer The Look agar segala bentuk komplain bisa ditangani secara cepat dan memuaskan.\n",
        "*   Membuat/menambah tim Quality Control supaya kondisi produk yang kita kirimkan dalam kondisi yang sempurna, hal ini akan berpengaruh ke berkurangnya komplain dan juga pengembalian pesanan karena kondisi produk yang diterima dalam kondisi rusak/cacat.\n",
        "*   Memberikan reward kepada Loyal Customer The Look, bisa dalam bentuk special offers, discount codes, tiered rewards, dll.\n",
        "*   Menambah metode pembayaran yang tersedia di platform, agar memudahkan semua customer The Look dalam proses belanja. Semakin mudah proses belanja di platform maka peluang customer melakukan repeat order akan semakin tinggi.\n",
        "*   Menentukan channel/media mana yang paling efektif dalam menyampaikan informasi tentang The Look kepada semua customer. Informasi ini bisa berisi program promosi yang sedang berlangsung, produk baru yang ingin dirilis, ataupun pengumuman mengenai fitur baru yang tersedia di platform.\n",
        "\n",
        "\n",
        "\n",
        "\n",
        "\n",
        "\n"
      ],
      "metadata": {
        "id": "hHAGSSk8s6aO"
      }
    },
    {
      "cell_type": "markdown",
      "source": [
        "# CONCLUSIONS\n",
        "\n",
        "Setelah melakukan beberapa analisa untuk platform The Look pada periode Q1-Q2 tahun 2022 ini ditemukan beberapa masalah yang harus ditangani untuk perkembangan perusahaan kedepannya. \n",
        "\n",
        "Yang pertama, jumlah Loyal Customer pada platform The Look hanya sekitar 3.4% saja. Kecilnya jumlah Loyal Customer The Look dapat mengindikasikan masih kurang bersaingnya kualitas produk yang ditawarkan ataupun belum maksimalnya customer service yang disediakan, kemudahan dalam proses belanja di platform The Look juga mempengaruhi Loyal Customer untuk melakukan repeat order di platform The Look. \n",
        "\n",
        "Selanjutnya, rata-rata transaksi yang dilakukan oleh Loyal Customer hanya 3 kali transaksi saja, dengan rata-rata uang yang dikeluarkan sekitar 320 dollars. Ini juga menjadi indikasi masih adanya keraguan Loyal Customer untuk berbelanja di platform kita.\n",
        "\n",
        "Kemudian kita menemukan bahwa karakteristik/kebiasaan Loyal Customer dari The Look mayoritas masih konservatif, bukan yang terlalu sering melihat social media. Ini dapat menjadi pertimbangan untuk memilih lewat media/channel apa saja kita ingin menaruh iklan-iklan The Look agar hasilnya lebih efektif.\n",
        "\n",
        "Dan tujuan dari pemasangan iklan di berbagai media/channel ini adalah untuk menjaring customer-customer baru. Untuk membuat para customer baru ini berubah menjadi Loyal Customer, kita harus melakukan treatment/pelayanan yang tepat agar mereka merasa puas dan nyaman berbelanja di The Look."
      ],
      "metadata": {
        "id": "mPa_IS-CyxjN"
      }
    },
    {
      "cell_type": "markdown",
      "source": [
        "# QUESTIONS\n",
        "\n",
        "1. Apakah problem statement yang kamu definisikan di awal dapat terukur ketercapaiannya? berikan pendapatmu!\n",
        "\n",
        "  *Jawaban: Bisa, karena problem statement yang didefinisikan diatas adalah hasil yang didapatkan dari analisa menggunakan statistik. Kita mendapatkan nilai-nilai yang kita anggap sebagai indikator sebuah masalah. Ketika selanjutnya kita menentukan goals dan success criteria, kita bisa menggunakan analisa yang sama dan mendapatkan nilai-nilai baru yang nantinya bisa menjadi indikator untuk melakukan evaluasi apakah goals dan success criteria yang kita tentukan berhasil dicapai atau tidak ada perubahan sama sekali.*\n",
        "\n",
        "2. Apa yang dimaksud dengan customer/user retention?\n",
        "\n",
        "  *Jawaban: Customer/User Retention adalah suatu metrik/indikator yang menandakan kemampuan suatu perusahaan untuk membuat customernya menggunakan produk/jasanya secara terus menerus, atau dengan kata lain menjadi customer setia/loyal. Dan secara otomaris mengurangi kemungkinan para customer ini menggunakan produk/jasa dari kompetitor.*\n",
        "\n",
        "3. Jika platform The Look membuat fitur tambahan, apakah kamu akan merekomendasikan/memprioritaskan kepada user loyal? apa pertimbanganmu?\n",
        "\n",
        "  *Jawaban: Iya, saya akan memprioritaskan customer loyal dalam pengembangan fitur baru/fitur tambahan. Pertama, karena menurut artikel berjudul \"21 Surprising Customer Retention Statistics For 2021\", kenaikan Customer Retention sebesar 5% saja bisa meningkatkan profit sebesar 25-95%. Ketika customer menjadi setia/loyal ke produk kita, maka akan lebih mudah untuk mereka mencoba produk/jasa baru yang kita tawarkan. Kemudian para customer loyal ini akan mempromosikan produk/servis kita ke orang-orang terdekatnya, membawa customer baru untuk menggunakan produk/jasa kita. Yang kedua, proses customer acquisition membutuhkan biaya yang jauh lebih besar, tapi kedua proses ini memang sama pentingnya untuk keberlangsungan perusahaan.*"
      ],
      "metadata": {
        "id": "TillV52eh1dq"
      }
    }
  ]
}