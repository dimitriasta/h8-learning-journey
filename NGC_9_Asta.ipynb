{
 "cells": [
  {
   "cell_type": "code",
   "execution_count": 7,
   "metadata": {},
   "outputs": [
    {
     "name": "stdout",
     "output_type": "stream",
     "text": [
      "[25049, 24951]\n"
     ]
    }
   ],
   "source": [
    "import random\n",
    "\n",
    "# buat list dengan 2 element (kepala dan ekor)\n",
    "head_tail = [0,0]\n",
    "\n",
    "# dibuat loop untuk 50.000 pengulangan\n",
    "trials = 50000\n",
    "i = 0\n",
    "while i < trials:\n",
    "    i = i + 1\n",
    "    #  get a random 0 or 1\n",
    "    toss = random.randint(0,1)\n",
    "    # penambahan isi list sesuai dengan hasil toss\n",
    "    head_tail[toss] = head_tail[toss] + 1\n",
    "\n",
    "print(head_tail)\n"
   ]
  },
  {
   "cell_type": "code",
   "execution_count": 8,
   "metadata": {},
   "outputs": [
    {
     "data": {
      "image/png": "[encoded data removed]",
      "text/plain": [
       "<Figure size 360x360 with 1 Axes>"
      ]
     },
     "metadata": {},
     "output_type": "display_data"
    }
   ],
   "source": [
    "# membuat pie chart\n",
    "\n",
    "import matplotlib.pyplot as plt\n",
    "\n",
    "plt.figure(figsize=(5,5))\n",
    "plt.pie(head_tail, labels=['head', 'tail'])\n",
    "plt.legend()\n",
    "plt.show()"
   ]
  }
 ],
 "metadata": {
  "kernelspec": {
   "display_name": "Python 3.9.12 ('base')",
   "language": "python",
   "name": "python3"
  },
  "language_info": {
   "codemirror_mode": {
    "name": "ipython",
    "version": 3
   },
   "file_extension": ".py",
   "mimetype": "text/x-python",
   "name": "python",
   "nbconvert_exporter": "python",
   "pygments_lexer": "ipython3",
   "version": "3.9.12"
  },
  "orig_nbformat": 4,
  "vscode": {
   "interpreter": {
    "hash": "cf222b8a245eb29bee3b460393575987629655e73ab8896d67c96c1e560c9ea9"
   }
  }
 },
 "nbformat": 4,
 "nbformat_minor": 2
}
