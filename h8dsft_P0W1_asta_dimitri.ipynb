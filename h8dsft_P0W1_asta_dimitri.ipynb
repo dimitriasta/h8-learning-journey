{
 "cells": [
  {
   "cell_type": "markdown",
   "metadata": {},
   "source": [
    "# GRADED CHALLENGE 1\n",
    "\n",
    "Hello! Welcome to my Notebook.\n",
    "\n",
    "Notebook ini merupakan bagian dari tugas *Graded Challenge 1* yang dibuat oleh **Asta Zeska Dimitri** dari Batch **001-HCK**."
   ]
  },
  {
   "cell_type": "markdown",
   "metadata": {},
   "source": [
    "# INTRODUCTION\n",
    "\n",
    "## Background\n",
    "\n",
    "Sebagai fenomena luar biasa yang terjadi di zaman modern, pandemi Covid-19 ini tentu menarik perhatian banyak orang. Salah satu sisi positif yang bisa diambil adalah melimpah dan mudahnya publik dalam melihat ataupun mengakses data tentang Covid-19. Tidak hanya data di dalam negeri saja, tapi juga dari berbagai negara-negara lain. Sehingga untuk para Aspired Data Scientist seperti penulis, data tentang Covid-19 ini sangat cocok untuk digunakan sebagai materi latihan. Harapannya adalah selain menambah wawasan/skill analisis data, kita juga bisa mendapatkan informasi tentang kondisi pandemi Covid-19 pada saat ini.\n",
    "\n",
    "## Problem Statement\n",
    "\n",
    "- Berapa banyak penduduk yang terdampak pandemi Covid-19 ini?\n",
    "- Berapa banyak korban dari pandemi Covid-19 ini?\n",
    "- Apakah jumlah kasus terkonfirmasi berhubungan dengan banyaknya jumlah penduduk di suatu daerah?\n",
    "- Apakah jumlah korban meninggal berhubungan dengan banyaknya kasus terkonfirmasi di suatu daerah?\n",
    "\n",
    "## The Data\n",
    "\n",
    "Untuk data yang digunakan kali ini adalah tabel `bigquery-public-data.covid19_jhu_csse_eu.summary` dari Johns Hopkins University Center for Systems Science and Engineering (JHU CSSE). Data ini tersedia di *Google Cloud Platform* dan merupakan bagian dari *BigQuery Public Datasets*.\n",
    "Untuk kolom tabel yang dipilih adalah province_state, country_region, date, confirmed, deaths, recovered, active.\n",
    "\n",
    "Tabel diambil dengan menggunakan kode query dibawah ini:\n",
    "```\n",
    "SELECT province_state, country_region, date, confirmed, deaths, recovered, active\n",
    "\n",
    "FROM `bigquery-public-data.covid19_jhu_csse_eu.summary`\n",
    "```\n",
    "\n",
    "Kemudian disimpan dalam format (*.csv)."
   ]
  },
  {
   "cell_type": "markdown",
   "metadata": {},
   "source": [
    "# DATA ANALYSIS\n",
    "\n",
    "## Import Library\n",
    "Memasukkan library-library yang dibutuhkan dalam pengolahan data ini seperti numpy, pandas, dan matplotlib."
   ]
  },
  {
   "cell_type": "code",
   "execution_count": 1,
   "metadata": {},
   "outputs": [],
   "source": [
    "import numpy as np\n",
    "import pandas as pd\n",
    "import matplotlib as plt"
   ]
  },
  {
   "cell_type": "markdown",
   "metadata": {},
   "source": [
    "## Data Loading and Overview\n",
    "Melakukan proses load data ke dalam notebook ini. Sekaligus melakukan overview singkat untuk mengetahui gambaran awal dari data yang akan diolah."
   ]
  },
  {
   "cell_type": "code",
   "execution_count": 2,
   "metadata": {},
   "outputs": [],
   "source": [
    "df = pd.read_csv('h8dsft_P0GC1_Asta.csv')"
   ]
  },
  {
   "cell_type": "markdown",
   "metadata": {},
   "source": [
    "Menjalankan beberapa fungsi yang bertujuan untuk overview singkat."
   ]
  },
  {
   "cell_type": "code",
   "execution_count": 3,
   "metadata": {},
   "outputs": [
    {
     "data": {
      "text/html": [
       "<div>\n",
       "<style scoped>\n",
       "    .dataframe tbody tr th:only-of-type {\n",
       "        vertical-align: middle;\n",
       "    }\n",
       "\n",
       "    .dataframe tbody tr th {\n",
       "        vertical-align: top;\n",
       "    }\n",
       "\n",
       "    .dataframe thead th {\n",
       "        text-align: right;\n",
       "    }\n",
       "</style>\n",
       "<table border=\"1\" class=\"dataframe\">\n",
       "  <thead>\n",
       "    <tr style=\"text-align: right;\">\n",
       "      <th></th>\n",
       "      <th>province_state</th>\n",
       "      <th>country_region</th>\n",
       "      <th>date</th>\n",
       "      <th>confirmed</th>\n",
       "      <th>deaths</th>\n",
       "      <th>recovered</th>\n",
       "      <th>active</th>\n",
       "    </tr>\n",
       "  </thead>\n",
       "  <tbody>\n",
       "    <tr>\n",
       "      <th>0</th>\n",
       "      <td>Mississippi</td>\n",
       "      <td>US</td>\n",
       "      <td>2022-01-16</td>\n",
       "      <td>3969.0</td>\n",
       "      <td>95.0</td>\n",
       "      <td>NaN</td>\n",
       "      <td>NaN</td>\n",
       "    </tr>\n",
       "    <tr>\n",
       "      <th>1</th>\n",
       "      <td>Mississippi</td>\n",
       "      <td>US</td>\n",
       "      <td>2022-01-16</td>\n",
       "      <td>3125.0</td>\n",
       "      <td>48.0</td>\n",
       "      <td>NaN</td>\n",
       "      <td>NaN</td>\n",
       "    </tr>\n",
       "    <tr>\n",
       "      <th>2</th>\n",
       "      <td>Mississippi</td>\n",
       "      <td>US</td>\n",
       "      <td>2022-01-16</td>\n",
       "      <td>6653.0</td>\n",
       "      <td>94.0</td>\n",
       "      <td>NaN</td>\n",
       "      <td>NaN</td>\n",
       "    </tr>\n",
       "  </tbody>\n",
       "</table>\n",
       "</div>"
      ],
      "text/plain": [
       "  province_state country_region        date  confirmed  deaths  recovered  \\\n",
       "0    Mississippi             US  2022-01-16     3969.0    95.0        NaN   \n",
       "1    Mississippi             US  2022-01-16     3125.0    48.0        NaN   \n",
       "2    Mississippi             US  2022-01-16     6653.0    94.0        NaN   \n",
       "\n",
       "   active  \n",
       "0     NaN  \n",
       "1     NaN  \n",
       "2     NaN  "
      ]
     },
     "execution_count": 3,
     "metadata": {},
     "output_type": "execute_result"
    }
   ],
   "source": [
    "df.head(3)"
   ]
  },
  {
   "cell_type": "code",
   "execution_count": 4,
   "metadata": {},
   "outputs": [
    {
     "data": {
      "text/html": [
       "<div>\n",
       "<style scoped>\n",
       "    .dataframe tbody tr th:only-of-type {\n",
       "        vertical-align: middle;\n",
       "    }\n",
       "\n",
       "    .dataframe tbody tr th {\n",
       "        vertical-align: top;\n",
       "    }\n",
       "\n",
       "    .dataframe thead th {\n",
       "        text-align: right;\n",
       "    }\n",
       "</style>\n",
       "<table border=\"1\" class=\"dataframe\">\n",
       "  <thead>\n",
       "    <tr style=\"text-align: right;\">\n",
       "      <th></th>\n",
       "      <th>province_state</th>\n",
       "      <th>country_region</th>\n",
       "      <th>date</th>\n",
       "      <th>confirmed</th>\n",
       "      <th>deaths</th>\n",
       "      <th>recovered</th>\n",
       "      <th>active</th>\n",
       "    </tr>\n",
       "  </thead>\n",
       "  <tbody>\n",
       "    <tr>\n",
       "      <th>3420851</th>\n",
       "      <td>Arkansas</td>\n",
       "      <td>US</td>\n",
       "      <td>2022-02-19</td>\n",
       "      <td>3842.0</td>\n",
       "      <td>63.0</td>\n",
       "      <td>NaN</td>\n",
       "      <td>NaN</td>\n",
       "    </tr>\n",
       "    <tr>\n",
       "      <th>3420852</th>\n",
       "      <td>Arkansas</td>\n",
       "      <td>US</td>\n",
       "      <td>2022-02-19</td>\n",
       "      <td>5909.0</td>\n",
       "      <td>53.0</td>\n",
       "      <td>NaN</td>\n",
       "      <td>NaN</td>\n",
       "    </tr>\n",
       "    <tr>\n",
       "      <th>3420853</th>\n",
       "      <td>Arkansas</td>\n",
       "      <td>US</td>\n",
       "      <td>2022-02-19</td>\n",
       "      <td>18412.0</td>\n",
       "      <td>259.0</td>\n",
       "      <td>NaN</td>\n",
       "      <td>NaN</td>\n",
       "    </tr>\n",
       "  </tbody>\n",
       "</table>\n",
       "</div>"
      ],
      "text/plain": [
       "        province_state country_region        date  confirmed  deaths  \\\n",
       "3420851       Arkansas             US  2022-02-19     3842.0    63.0   \n",
       "3420852       Arkansas             US  2022-02-19     5909.0    53.0   \n",
       "3420853       Arkansas             US  2022-02-19    18412.0   259.0   \n",
       "\n",
       "         recovered  active  \n",
       "3420851        NaN     NaN  \n",
       "3420852        NaN     NaN  \n",
       "3420853        NaN     NaN  "
      ]
     },
     "execution_count": 4,
     "metadata": {},
     "output_type": "execute_result"
    }
   ],
   "source": [
    "df.tail(3)"
   ]
  },
  {
   "cell_type": "code",
   "execution_count": 5,
   "metadata": {},
   "outputs": [
    {
     "name": "stdout",
     "output_type": "stream",
     "text": [
      "<class 'pandas.core.frame.DataFrame'>\n",
      "RangeIndex: 3420854 entries, 0 to 3420853\n",
      "Data columns (total 7 columns):\n",
      " #   Column          Dtype  \n",
      "---  ------          -----  \n",
      " 0   province_state  object \n",
      " 1   country_region  object \n",
      " 2   date            object \n",
      " 3   confirmed       float64\n",
      " 4   deaths          float64\n",
      " 5   recovered       float64\n",
      " 6   active          float64\n",
      "dtypes: float64(4), object(3)\n",
      "memory usage: 182.7+ MB\n"
     ]
    }
   ],
   "source": [
    "df.info()"
   ]
  },
  {
   "cell_type": "code",
   "execution_count": 6,
   "metadata": {},
   "outputs": [
    {
     "data": {
      "text/plain": [
       "(3420854, 7)"
      ]
     },
     "execution_count": 6,
     "metadata": {},
     "output_type": "execute_result"
    }
   ],
   "source": [
    "df.shape"
   ]
  },
  {
   "cell_type": "code",
   "execution_count": 7,
   "metadata": {},
   "outputs": [
    {
     "data": {
      "text/html": [
       "<div>\n",
       "<style scoped>\n",
       "    .dataframe tbody tr th:only-of-type {\n",
       "        vertical-align: middle;\n",
       "    }\n",
       "\n",
       "    .dataframe tbody tr th {\n",
       "        vertical-align: top;\n",
       "    }\n",
       "\n",
       "    .dataframe thead th {\n",
       "        text-align: right;\n",
       "    }\n",
       "</style>\n",
       "<table border=\"1\" class=\"dataframe\">\n",
       "  <thead>\n",
       "    <tr style=\"text-align: right;\">\n",
       "      <th></th>\n",
       "      <th>count</th>\n",
       "      <th>mean</th>\n",
       "      <th>std</th>\n",
       "      <th>min</th>\n",
       "      <th>25%</th>\n",
       "      <th>50%</th>\n",
       "      <th>75%</th>\n",
       "      <th>max</th>\n",
       "    </tr>\n",
       "  </thead>\n",
       "  <tbody>\n",
       "    <tr>\n",
       "      <th>confirmed</th>\n",
       "      <td>3420835.0</td>\n",
       "      <td>53212.340093</td>\n",
       "      <td>420869.417490</td>\n",
       "      <td>-302844.0</td>\n",
       "      <td>547.0</td>\n",
       "      <td>2703.0</td>\n",
       "      <td>11854.0</td>\n",
       "      <td>33242582.0</td>\n",
       "    </tr>\n",
       "    <tr>\n",
       "      <th>deaths</th>\n",
       "      <td>3420412.0</td>\n",
       "      <td>871.170637</td>\n",
       "      <td>5631.735815</td>\n",
       "      <td>-178.0</td>\n",
       "      <td>7.0</td>\n",
       "      <td>45.0</td>\n",
       "      <td>177.0</td>\n",
       "      <td>624641.0</td>\n",
       "    </tr>\n",
       "    <tr>\n",
       "      <th>recovered</th>\n",
       "      <td>1435590.0</td>\n",
       "      <td>16361.765604</td>\n",
       "      <td>134176.376880</td>\n",
       "      <td>-854405.0</td>\n",
       "      <td>0.0</td>\n",
       "      <td>0.0</td>\n",
       "      <td>0.0</td>\n",
       "      <td>6399531.0</td>\n",
       "    </tr>\n",
       "    <tr>\n",
       "      <th>active</th>\n",
       "      <td>1427511.0</td>\n",
       "      <td>6556.531471</td>\n",
       "      <td>92861.259785</td>\n",
       "      <td>-6298082.0</td>\n",
       "      <td>55.0</td>\n",
       "      <td>471.0</td>\n",
       "      <td>2248.0</td>\n",
       "      <td>10877758.0</td>\n",
       "    </tr>\n",
       "  </tbody>\n",
       "</table>\n",
       "</div>"
      ],
      "text/plain": [
       "               count          mean            std        min    25%     50%  \\\n",
       "confirmed  3420835.0  53212.340093  420869.417490  -302844.0  547.0  2703.0   \n",
       "deaths     3420412.0    871.170637    5631.735815     -178.0    7.0    45.0   \n",
       "recovered  1435590.0  16361.765604  134176.376880  -854405.0    0.0     0.0   \n",
       "active     1427511.0   6556.531471   92861.259785 -6298082.0   55.0   471.0   \n",
       "\n",
       "               75%         max  \n",
       "confirmed  11854.0  33242582.0  \n",
       "deaths       177.0    624641.0  \n",
       "recovered      0.0   6399531.0  \n",
       "active      2248.0  10877758.0  "
      ]
     },
     "execution_count": 7,
     "metadata": {},
     "output_type": "execute_result"
    }
   ],
   "source": [
    "df.describe().T"
   ]
  },
  {
   "cell_type": "code",
   "execution_count": 8,
   "metadata": {},
   "outputs": [
    {
     "data": {
      "text/plain": [
       "province_state     154365\n",
       "country_region          1\n",
       "date                    0\n",
       "confirmed              19\n",
       "deaths                442\n",
       "recovered         1985264\n",
       "active            1993343\n",
       "dtype: int64"
      ]
     },
     "execution_count": 8,
     "metadata": {},
     "output_type": "execute_result"
    }
   ],
   "source": [
    "df.isnull().sum()"
   ]
  },
  {
   "cell_type": "code",
   "execution_count": 9,
   "metadata": {},
   "outputs": [
    {
     "data": {
      "text/plain": [
       "US                            2824688\n",
       "Russia                          66687\n",
       "Japan                           39570\n",
       "China                           29711\n",
       "India                           29425\n",
       "                               ...   \n",
       "Hong Kong SAR                       1\n",
       "Republic of Korea                   1\n",
       "Iran (Islamic Republic of)          1\n",
       "East Timor                          1\n",
       "North Ireland                       1\n",
       "Name: country_region, Length: 250, dtype: int64"
      ]
     },
     "execution_count": 9,
     "metadata": {},
     "output_type": "execute_result"
    }
   ],
   "source": [
    "df['country_region'].value_counts()"
   ]
  },
  {
   "cell_type": "markdown",
   "metadata": {},
   "source": [
    "Melakukan perubahan tipe data pada kolom date."
   ]
  },
  {
   "cell_type": "code",
   "execution_count": 10,
   "metadata": {},
   "outputs": [],
   "source": [
    "df['date'] = pd.to_datetime(df['date'])"
   ]
  },
  {
   "cell_type": "code",
   "execution_count": 11,
   "metadata": {},
   "outputs": [
    {
     "data": {
      "text/plain": [
       "1094635   2020-01-22\n",
       "1094641   2020-01-22\n",
       "1094642   2020-01-22\n",
       "1094643   2020-01-22\n",
       "1094634   2020-01-22\n",
       "             ...    \n",
       "3244012   2022-08-11\n",
       "3244011   2022-08-11\n",
       "3244010   2022-08-11\n",
       "3244023   2022-08-11\n",
       "3243350   2022-08-11\n",
       "Name: date, Length: 3420854, dtype: datetime64[ns]"
      ]
     },
     "execution_count": 11,
     "metadata": {},
     "output_type": "execute_result"
    }
   ],
   "source": [
    "df['date'].sort_values(ascending=True)"
   ]
  },
  {
   "cell_type": "markdown",
   "metadata": {},
   "source": [
    "Sampai disini ada beberapa informasi yang bisa diambil, yaitu:\n",
    "- Dataset ini adalah total harian dari kasus Covid-19 dan berawal dari tanggal 22 Januari 2020 sampai dengan 11 Agustus 2022.\n",
    "- Tabel terdiri dari 3.420.854 baris dan 7 kolom.\n",
    "- Ditemukan adanya nilai negatif pada kolom confirmed, deaths, recovered, dan active.\n",
    "- Terlalu banyak data kosong pada kolom recovered dan active, sepertinya lebih baik jika dihapus kolomnya.\n",
    "- US memiliki data terbanyak pada tabel yaitu 2.824.688, dan bisa menjadi fokus utama untuk pengolahan data."
   ]
  },
  {
   "cell_type": "markdown",
   "metadata": {},
   "source": [
    "## Data Cleaning\n",
    "Melakukan proses pembersihan data karena dari informasi yang didapatkan tidak hanya terdapat data kosong, namun terdapat juga data dengan nilai negatif. Dan juga akan melakukan pengecekan apakah masih ada non-standard dan/atau invalid missing value. "
   ]
  },
  {
   "cell_type": "markdown",
   "metadata": {},
   "source": [
    "Menghapus kolom recovered dan active karena terlalu banyak data kosong."
   ]
  },
  {
   "cell_type": "code",
   "execution_count": 11,
   "metadata": {},
   "outputs": [],
   "source": [
    "df.drop(['recovered', 'active'], axis=1, inplace=True)"
   ]
  },
  {
   "cell_type": "code",
   "execution_count": 12,
   "metadata": {},
   "outputs": [
    {
     "data": {
      "text/html": [
       "<div>\n",
       "<style scoped>\n",
       "    .dataframe tbody tr th:only-of-type {\n",
       "        vertical-align: middle;\n",
       "    }\n",
       "\n",
       "    .dataframe tbody tr th {\n",
       "        vertical-align: top;\n",
       "    }\n",
       "\n",
       "    .dataframe thead th {\n",
       "        text-align: right;\n",
       "    }\n",
       "</style>\n",
       "<table border=\"1\" class=\"dataframe\">\n",
       "  <thead>\n",
       "    <tr style=\"text-align: right;\">\n",
       "      <th></th>\n",
       "      <th>province_state</th>\n",
       "      <th>country_region</th>\n",
       "      <th>date</th>\n",
       "      <th>confirmed</th>\n",
       "      <th>deaths</th>\n",
       "    </tr>\n",
       "  </thead>\n",
       "  <tbody>\n",
       "    <tr>\n",
       "      <th>0</th>\n",
       "      <td>Mississippi</td>\n",
       "      <td>US</td>\n",
       "      <td>2022-01-16</td>\n",
       "      <td>3969.0</td>\n",
       "      <td>95.0</td>\n",
       "    </tr>\n",
       "    <tr>\n",
       "      <th>1</th>\n",
       "      <td>Mississippi</td>\n",
       "      <td>US</td>\n",
       "      <td>2022-01-16</td>\n",
       "      <td>3125.0</td>\n",
       "      <td>48.0</td>\n",
       "    </tr>\n",
       "    <tr>\n",
       "      <th>2</th>\n",
       "      <td>Mississippi</td>\n",
       "      <td>US</td>\n",
       "      <td>2022-01-16</td>\n",
       "      <td>6653.0</td>\n",
       "      <td>94.0</td>\n",
       "    </tr>\n",
       "    <tr>\n",
       "      <th>3</th>\n",
       "      <td>Missouri</td>\n",
       "      <td>US</td>\n",
       "      <td>2022-01-16</td>\n",
       "      <td>4563.0</td>\n",
       "      <td>54.0</td>\n",
       "    </tr>\n",
       "    <tr>\n",
       "      <th>4</th>\n",
       "      <td>Missouri</td>\n",
       "      <td>US</td>\n",
       "      <td>2022-01-16</td>\n",
       "      <td>3942.0</td>\n",
       "      <td>42.0</td>\n",
       "    </tr>\n",
       "    <tr>\n",
       "      <th>...</th>\n",
       "      <td>...</td>\n",
       "      <td>...</td>\n",
       "      <td>...</td>\n",
       "      <td>...</td>\n",
       "      <td>...</td>\n",
       "    </tr>\n",
       "    <tr>\n",
       "      <th>3420849</th>\n",
       "      <td>Arkansas</td>\n",
       "      <td>US</td>\n",
       "      <td>2022-02-19</td>\n",
       "      <td>3702.0</td>\n",
       "      <td>47.0</td>\n",
       "    </tr>\n",
       "    <tr>\n",
       "      <th>3420850</th>\n",
       "      <td>Arkansas</td>\n",
       "      <td>US</td>\n",
       "      <td>2022-02-19</td>\n",
       "      <td>10471.0</td>\n",
       "      <td>190.0</td>\n",
       "    </tr>\n",
       "    <tr>\n",
       "      <th>3420851</th>\n",
       "      <td>Arkansas</td>\n",
       "      <td>US</td>\n",
       "      <td>2022-02-19</td>\n",
       "      <td>3842.0</td>\n",
       "      <td>63.0</td>\n",
       "    </tr>\n",
       "    <tr>\n",
       "      <th>3420852</th>\n",
       "      <td>Arkansas</td>\n",
       "      <td>US</td>\n",
       "      <td>2022-02-19</td>\n",
       "      <td>5909.0</td>\n",
       "      <td>53.0</td>\n",
       "    </tr>\n",
       "    <tr>\n",
       "      <th>3420853</th>\n",
       "      <td>Arkansas</td>\n",
       "      <td>US</td>\n",
       "      <td>2022-02-19</td>\n",
       "      <td>18412.0</td>\n",
       "      <td>259.0</td>\n",
       "    </tr>\n",
       "  </tbody>\n",
       "</table>\n",
       "<p>3420854 rows × 5 columns</p>\n",
       "</div>"
      ],
      "text/plain": [
       "        province_state country_region        date  confirmed  deaths\n",
       "0          Mississippi             US  2022-01-16     3969.0    95.0\n",
       "1          Mississippi             US  2022-01-16     3125.0    48.0\n",
       "2          Mississippi             US  2022-01-16     6653.0    94.0\n",
       "3             Missouri             US  2022-01-16     4563.0    54.0\n",
       "4             Missouri             US  2022-01-16     3942.0    42.0\n",
       "...                ...            ...         ...        ...     ...\n",
       "3420849       Arkansas             US  2022-02-19     3702.0    47.0\n",
       "3420850       Arkansas             US  2022-02-19    10471.0   190.0\n",
       "3420851       Arkansas             US  2022-02-19     3842.0    63.0\n",
       "3420852       Arkansas             US  2022-02-19     5909.0    53.0\n",
       "3420853       Arkansas             US  2022-02-19    18412.0   259.0\n",
       "\n",
       "[3420854 rows x 5 columns]"
      ]
     },
     "execution_count": 12,
     "metadata": {},
     "output_type": "execute_result"
    }
   ],
   "source": [
    "df"
   ]
  },
  {
   "cell_type": "markdown",
   "metadata": {},
   "source": [
    "Menghapus nilai negatif pada kolom confirmed atau deaths karena itu adalah invalid missing values."
   ]
  },
  {
   "cell_type": "code",
   "execution_count": 16,
   "metadata": {},
   "outputs": [
    {
     "data": {
      "text/html": [
       "<div>\n",
       "<style scoped>\n",
       "    .dataframe tbody tr th:only-of-type {\n",
       "        vertical-align: middle;\n",
       "    }\n",
       "\n",
       "    .dataframe tbody tr th {\n",
       "        vertical-align: top;\n",
       "    }\n",
       "\n",
       "    .dataframe thead th {\n",
       "        text-align: right;\n",
       "    }\n",
       "</style>\n",
       "<table border=\"1\" class=\"dataframe\">\n",
       "  <thead>\n",
       "    <tr style=\"text-align: right;\">\n",
       "      <th></th>\n",
       "      <th>province_state</th>\n",
       "      <th>country_region</th>\n",
       "      <th>date</th>\n",
       "      <th>confirmed</th>\n",
       "      <th>deaths</th>\n",
       "    </tr>\n",
       "  </thead>\n",
       "  <tbody>\n",
       "    <tr>\n",
       "      <th>996642</th>\n",
       "      <td>South Carolina</td>\n",
       "      <td>US</td>\n",
       "      <td>2022-05-05</td>\n",
       "      <td>-3073.0</td>\n",
       "      <td>-82.0</td>\n",
       "    </tr>\n",
       "    <tr>\n",
       "      <th>1185622</th>\n",
       "      <td>Unknown</td>\n",
       "      <td>Colombia</td>\n",
       "      <td>2020-10-25</td>\n",
       "      <td>0.0</td>\n",
       "      <td>-154.0</td>\n",
       "    </tr>\n",
       "    <tr>\n",
       "      <th>1986668</th>\n",
       "      <td>South Carolina</td>\n",
       "      <td>US</td>\n",
       "      <td>2022-05-06</td>\n",
       "      <td>-3073.0</td>\n",
       "      <td>-82.0</td>\n",
       "    </tr>\n",
       "    <tr>\n",
       "      <th>2337767</th>\n",
       "      <td>Unknown</td>\n",
       "      <td>Colombia</td>\n",
       "      <td>2020-11-02</td>\n",
       "      <td>-302844.0</td>\n",
       "      <td>0.0</td>\n",
       "    </tr>\n",
       "    <tr>\n",
       "      <th>3318282</th>\n",
       "      <td>Unknown</td>\n",
       "      <td>Colombia</td>\n",
       "      <td>2020-09-24</td>\n",
       "      <td>0.0</td>\n",
       "      <td>-178.0</td>\n",
       "    </tr>\n",
       "  </tbody>\n",
       "</table>\n",
       "</div>"
      ],
      "text/plain": [
       "         province_state country_region        date  confirmed  deaths\n",
       "996642   South Carolina             US  2022-05-05    -3073.0   -82.0\n",
       "1185622         Unknown       Colombia  2020-10-25        0.0  -154.0\n",
       "1986668  South Carolina             US  2022-05-06    -3073.0   -82.0\n",
       "2337767         Unknown       Colombia  2020-11-02  -302844.0     0.0\n",
       "3318282         Unknown       Colombia  2020-09-24        0.0  -178.0"
      ]
     },
     "execution_count": 16,
     "metadata": {},
     "output_type": "execute_result"
    }
   ],
   "source": [
    "# Melakukan pencarian data bernilai negatif pada kolom confirmed atau deaths dengan menggunakan fungsi query\n",
    "\n",
    "df.query(\"confirmed < 0 | deaths < 0\")"
   ]
  },
  {
   "cell_type": "markdown",
   "metadata": {},
   "source": [
    "Ditemukan adanya 5 baris yang mengandung nilai negatif pada kolom confirmed atau deaths"
   ]
  },
  {
   "cell_type": "code",
   "execution_count": 17,
   "metadata": {},
   "outputs": [],
   "source": [
    "# Melakukan proses penghapusan baris yang mengandung nilai negatif\n",
    "\n",
    "df.drop(df[(df['confirmed'] < 0) | (df['deaths'] < 0)].index, inplace=True)"
   ]
  },
  {
   "cell_type": "code",
   "execution_count": 18,
   "metadata": {},
   "outputs": [
    {
     "data": {
      "text/html": [
       "<div>\n",
       "<style scoped>\n",
       "    .dataframe tbody tr th:only-of-type {\n",
       "        vertical-align: middle;\n",
       "    }\n",
       "\n",
       "    .dataframe tbody tr th {\n",
       "        vertical-align: top;\n",
       "    }\n",
       "\n",
       "    .dataframe thead th {\n",
       "        text-align: right;\n",
       "    }\n",
       "</style>\n",
       "<table border=\"1\" class=\"dataframe\">\n",
       "  <thead>\n",
       "    <tr style=\"text-align: right;\">\n",
       "      <th></th>\n",
       "      <th>province_state</th>\n",
       "      <th>country_region</th>\n",
       "      <th>date</th>\n",
       "      <th>confirmed</th>\n",
       "      <th>deaths</th>\n",
       "    </tr>\n",
       "  </thead>\n",
       "  <tbody>\n",
       "    <tr>\n",
       "      <th>0</th>\n",
       "      <td>Mississippi</td>\n",
       "      <td>US</td>\n",
       "      <td>2022-01-16</td>\n",
       "      <td>3969.0</td>\n",
       "      <td>95.0</td>\n",
       "    </tr>\n",
       "    <tr>\n",
       "      <th>1</th>\n",
       "      <td>Mississippi</td>\n",
       "      <td>US</td>\n",
       "      <td>2022-01-16</td>\n",
       "      <td>3125.0</td>\n",
       "      <td>48.0</td>\n",
       "    </tr>\n",
       "    <tr>\n",
       "      <th>2</th>\n",
       "      <td>Mississippi</td>\n",
       "      <td>US</td>\n",
       "      <td>2022-01-16</td>\n",
       "      <td>6653.0</td>\n",
       "      <td>94.0</td>\n",
       "    </tr>\n",
       "    <tr>\n",
       "      <th>3</th>\n",
       "      <td>Missouri</td>\n",
       "      <td>US</td>\n",
       "      <td>2022-01-16</td>\n",
       "      <td>4563.0</td>\n",
       "      <td>54.0</td>\n",
       "    </tr>\n",
       "    <tr>\n",
       "      <th>4</th>\n",
       "      <td>Missouri</td>\n",
       "      <td>US</td>\n",
       "      <td>2022-01-16</td>\n",
       "      <td>3942.0</td>\n",
       "      <td>42.0</td>\n",
       "    </tr>\n",
       "    <tr>\n",
       "      <th>...</th>\n",
       "      <td>...</td>\n",
       "      <td>...</td>\n",
       "      <td>...</td>\n",
       "      <td>...</td>\n",
       "      <td>...</td>\n",
       "    </tr>\n",
       "    <tr>\n",
       "      <th>3420849</th>\n",
       "      <td>Arkansas</td>\n",
       "      <td>US</td>\n",
       "      <td>2022-02-19</td>\n",
       "      <td>3702.0</td>\n",
       "      <td>47.0</td>\n",
       "    </tr>\n",
       "    <tr>\n",
       "      <th>3420850</th>\n",
       "      <td>Arkansas</td>\n",
       "      <td>US</td>\n",
       "      <td>2022-02-19</td>\n",
       "      <td>10471.0</td>\n",
       "      <td>190.0</td>\n",
       "    </tr>\n",
       "    <tr>\n",
       "      <th>3420851</th>\n",
       "      <td>Arkansas</td>\n",
       "      <td>US</td>\n",
       "      <td>2022-02-19</td>\n",
       "      <td>3842.0</td>\n",
       "      <td>63.0</td>\n",
       "    </tr>\n",
       "    <tr>\n",
       "      <th>3420852</th>\n",
       "      <td>Arkansas</td>\n",
       "      <td>US</td>\n",
       "      <td>2022-02-19</td>\n",
       "      <td>5909.0</td>\n",
       "      <td>53.0</td>\n",
       "    </tr>\n",
       "    <tr>\n",
       "      <th>3420853</th>\n",
       "      <td>Arkansas</td>\n",
       "      <td>US</td>\n",
       "      <td>2022-02-19</td>\n",
       "      <td>18412.0</td>\n",
       "      <td>259.0</td>\n",
       "    </tr>\n",
       "  </tbody>\n",
       "</table>\n",
       "<p>3420849 rows × 5 columns</p>\n",
       "</div>"
      ],
      "text/plain": [
       "        province_state country_region        date  confirmed  deaths\n",
       "0          Mississippi             US  2022-01-16     3969.0    95.0\n",
       "1          Mississippi             US  2022-01-16     3125.0    48.0\n",
       "2          Mississippi             US  2022-01-16     6653.0    94.0\n",
       "3             Missouri             US  2022-01-16     4563.0    54.0\n",
       "4             Missouri             US  2022-01-16     3942.0    42.0\n",
       "...                ...            ...         ...        ...     ...\n",
       "3420849       Arkansas             US  2022-02-19     3702.0    47.0\n",
       "3420850       Arkansas             US  2022-02-19    10471.0   190.0\n",
       "3420851       Arkansas             US  2022-02-19     3842.0    63.0\n",
       "3420852       Arkansas             US  2022-02-19     5909.0    53.0\n",
       "3420853       Arkansas             US  2022-02-19    18412.0   259.0\n",
       "\n",
       "[3420849 rows x 5 columns]"
      ]
     },
     "execution_count": 18,
     "metadata": {},
     "output_type": "execute_result"
    }
   ],
   "source": [
    "df"
   ]
  },
  {
   "cell_type": "markdown",
   "metadata": {},
   "source": [
    "Proses penghapusan baris berhasil dilakukan, dapat dilihat dari jumlah baris yang berkurang sebanyak 5 baris.\n",
    "Lalu dikonfirmasi ulang dengan menggunakan query yang sama dengan diatas.  "
   ]
  },
  {
   "cell_type": "code",
   "execution_count": 19,
   "metadata": {},
   "outputs": [
    {
     "data": {
      "text/html": [
       "<div>\n",
       "<style scoped>\n",
       "    .dataframe tbody tr th:only-of-type {\n",
       "        vertical-align: middle;\n",
       "    }\n",
       "\n",
       "    .dataframe tbody tr th {\n",
       "        vertical-align: top;\n",
       "    }\n",
       "\n",
       "    .dataframe thead th {\n",
       "        text-align: right;\n",
       "    }\n",
       "</style>\n",
       "<table border=\"1\" class=\"dataframe\">\n",
       "  <thead>\n",
       "    <tr style=\"text-align: right;\">\n",
       "      <th></th>\n",
       "      <th>province_state</th>\n",
       "      <th>country_region</th>\n",
       "      <th>date</th>\n",
       "      <th>confirmed</th>\n",
       "      <th>deaths</th>\n",
       "    </tr>\n",
       "  </thead>\n",
       "  <tbody>\n",
       "  </tbody>\n",
       "</table>\n",
       "</div>"
      ],
      "text/plain": [
       "Empty DataFrame\n",
       "Columns: [province_state, country_region, date, confirmed, deaths]\n",
       "Index: []"
      ]
     },
     "execution_count": 19,
     "metadata": {},
     "output_type": "execute_result"
    }
   ],
   "source": [
    "df.query(\"confirmed < 0 | deaths < 0\")"
   ]
  },
  {
   "cell_type": "markdown",
   "metadata": {},
   "source": [
    "Menghapus data null/NaN pada tabel."
   ]
  },
  {
   "cell_type": "code",
   "execution_count": 22,
   "metadata": {},
   "outputs": [],
   "source": [
    "# mencoba fungsi dropna untuk 1 kolom\n",
    "\n",
    "df.dropna(subset=['province_state'], inplace=True)"
   ]
  },
  {
   "cell_type": "code",
   "execution_count": 20,
   "metadata": {},
   "outputs": [],
   "source": [
    "# mencoba fungsi dropna untuk banyak kolom sekaligus\n",
    "\n",
    "df.dropna(subset=['country_region', 'confirmed', 'deaths'], inplace=True)"
   ]
  },
  {
   "cell_type": "code",
   "execution_count": 23,
   "metadata": {},
   "outputs": [
    {
     "data": {
      "text/plain": [
       "province_state    0\n",
       "country_region    0\n",
       "date              0\n",
       "confirmed         0\n",
       "deaths            0\n",
       "dtype: int64"
      ]
     },
     "execution_count": 23,
     "metadata": {},
     "output_type": "execute_result"
    }
   ],
   "source": [
    "df.isnull().sum()"
   ]
  },
  {
   "cell_type": "markdown",
   "metadata": {},
   "source": [
    "Data null/NaN berhasil terhapus semua."
   ]
  },
  {
   "cell_type": "markdown",
   "metadata": {},
   "source": [
    "## Data Exploration"
   ]
  },
  {
   "cell_type": "markdown",
   "metadata": {},
   "source": [
    "### Pada bagian ini akan dilakukan eksplorasi data secara general berdasarkan negara-negara di dunia."
   ]
  },
  {
   "cell_type": "code",
   "execution_count": 28,
   "metadata": {},
   "outputs": [
    {
     "data": {
      "text/plain": [
       "country_region\n",
       "US                  92719491.0\n",
       "India               44223557.0\n",
       "France              34383344.0\n",
       "Brazil              34124579.0\n",
       "Germany             31489484.0\n",
       "                       ...    \n",
       "Marshall Islands         189.0\n",
       "Holy See                  29.0\n",
       "Antarctica                11.0\n",
       "MS Zaandam                 9.0\n",
       "Korea, North               1.0\n",
       "Name: confirmed, Length: 199, dtype: float64"
      ]
     },
     "execution_count": 28,
     "metadata": {},
     "output_type": "execute_result"
    }
   ],
   "source": [
    "# melakukan query untuk mengambil data confirmed dari setiap negara dan membuat diagram batangnya.\n",
    "\n",
    "wrld_c = df.query(\"date == '2022-08-11'\").groupby('country_region')['confirmed'].sum().sort_values(ascending=False)\n",
    "wrld_c"
   ]
  },
  {
   "cell_type": "code",
   "execution_count": 39,
   "metadata": {},
   "outputs": [
    {
     "data": {
      "text/plain": [
       "588474953.0"
      ]
     },
     "execution_count": 39,
     "metadata": {},
     "output_type": "execute_result"
    }
   ],
   "source": [
    "wrld_c.sum()"
   ]
  },
  {
   "cell_type": "code",
   "execution_count": 44,
   "metadata": {},
   "outputs": [
    {
     "data": {
      "text/plain": [
       "<AxesSubplot:xlabel='country_region'>"
      ]
     },
     "execution_count": 44,
     "metadata": {},
     "output_type": "execute_result"
    },
    {
     "data": {
      "image/png": "[encoded data removed]",
      "text/plain": [
       "<Figure size 432x288 with 1 Axes>"
      ]
     },
     "metadata": {
      "needs_background": "light"
     },
     "output_type": "display_data"
    }
   ],
   "source": [
    "wrld_c.head(10).plot(kind='bar')"
   ]
  },
  {
   "cell_type": "markdown",
   "metadata": {},
   "source": [
    "Dari informasi diatas kita bisa mengetahui jumlah kasus terkonfirmasi Covid-19 di seluruh dunia sebanyak 588.474.953 kasus.\n",
    "5 Negara tertinggi adalah: US, India, France, Brazil, Germany."
   ]
  },
  {
   "cell_type": "code",
   "execution_count": 29,
   "metadata": {},
   "outputs": [
    {
     "data": {
      "text/plain": [
       "country_region\n",
       "US                      1036325.0\n",
       "Brazil                   681006.0\n",
       "India                    526928.0\n",
       "Russia                   375192.0\n",
       "Mexico                   328437.0\n",
       "                          ...    \n",
       "Marshall Islands              1.0\n",
       "Antarctica                    0.0\n",
       "Holy See                      0.0\n",
       "Winter Olympics 2022          0.0\n",
       "Summer Olympics 2020          0.0\n",
       "Name: deaths, Length: 199, dtype: float64"
      ]
     },
     "execution_count": 29,
     "metadata": {},
     "output_type": "execute_result"
    }
   ],
   "source": [
    "# melakukan query untuk mengambil data deaths dari setiap negara dan membuat diagram batangnya.\n",
    "\n",
    "wrld_d = df.query(\"date == '2022-08-11'\").groupby('country_region')['deaths'].sum().sort_values(ascending=False)\n",
    "wrld_d"
   ]
  },
  {
   "cell_type": "code",
   "execution_count": 40,
   "metadata": {},
   "outputs": [
    {
     "data": {
      "text/plain": [
       "6430692.0"
      ]
     },
     "execution_count": 40,
     "metadata": {},
     "output_type": "execute_result"
    }
   ],
   "source": [
    "wrld_d.sum()"
   ]
  },
  {
   "cell_type": "code",
   "execution_count": 35,
   "metadata": {},
   "outputs": [
    {
     "data": {
      "text/plain": [
       "<AxesSubplot:xlabel='country_region'>"
      ]
     },
     "execution_count": 35,
     "metadata": {},
     "output_type": "execute_result"
    },
    {
     "data": {
      "image/png": "[encoded data removed]",
      "text/plain": [
       "<Figure size 432x288 with 1 Axes>"
      ]
     },
     "metadata": {
      "needs_background": "light"
     },
     "output_type": "display_data"
    }
   ],
   "source": [
    "wrld_d.head(10).plot(kind='bar')"
   ]
  },
  {
   "cell_type": "markdown",
   "metadata": {},
   "source": [
    "Dari informasi diatas kita bisa mengetahui jumlah kematian akibat Covid-19 di seluruh dunia sebanyak 6.430.692 jiwa.\n",
    "5 Negara tertinggi adalah: US, Brazil, India, Russia, Mexico."
   ]
  },
  {
   "cell_type": "code",
   "execution_count": 36,
   "metadata": {},
   "outputs": [
    {
     "data": {
      "text/html": [
       "<div>\n",
       "<style scoped>\n",
       "    .dataframe tbody tr th:only-of-type {\n",
       "        vertical-align: middle;\n",
       "    }\n",
       "\n",
       "    .dataframe tbody tr th {\n",
       "        vertical-align: top;\n",
       "    }\n",
       "\n",
       "    .dataframe thead th {\n",
       "        text-align: right;\n",
       "    }\n",
       "</style>\n",
       "<table border=\"1\" class=\"dataframe\">\n",
       "  <thead>\n",
       "    <tr style=\"text-align: right;\">\n",
       "      <th></th>\n",
       "      <th>confirmed</th>\n",
       "      <th>deaths</th>\n",
       "    </tr>\n",
       "    <tr>\n",
       "      <th>country_region</th>\n",
       "      <th></th>\n",
       "      <th></th>\n",
       "    </tr>\n",
       "  </thead>\n",
       "  <tbody>\n",
       "    <tr>\n",
       "      <th>US</th>\n",
       "      <td>92719491.0</td>\n",
       "      <td>1036325.0</td>\n",
       "    </tr>\n",
       "    <tr>\n",
       "      <th>Brazil</th>\n",
       "      <td>34124579.0</td>\n",
       "      <td>681006.0</td>\n",
       "    </tr>\n",
       "    <tr>\n",
       "      <th>India</th>\n",
       "      <td>44223557.0</td>\n",
       "      <td>526928.0</td>\n",
       "    </tr>\n",
       "    <tr>\n",
       "      <th>Russia</th>\n",
       "      <td>18523028.0</td>\n",
       "      <td>375192.0</td>\n",
       "    </tr>\n",
       "    <tr>\n",
       "      <th>Mexico</th>\n",
       "      <td>6875708.0</td>\n",
       "      <td>328437.0</td>\n",
       "    </tr>\n",
       "    <tr>\n",
       "      <th>...</th>\n",
       "      <td>...</td>\n",
       "      <td>...</td>\n",
       "    </tr>\n",
       "    <tr>\n",
       "      <th>Marshall Islands</th>\n",
       "      <td>189.0</td>\n",
       "      <td>1.0</td>\n",
       "    </tr>\n",
       "    <tr>\n",
       "      <th>Antarctica</th>\n",
       "      <td>11.0</td>\n",
       "      <td>0.0</td>\n",
       "    </tr>\n",
       "    <tr>\n",
       "      <th>Holy See</th>\n",
       "      <td>29.0</td>\n",
       "      <td>0.0</td>\n",
       "    </tr>\n",
       "    <tr>\n",
       "      <th>Winter Olympics 2022</th>\n",
       "      <td>535.0</td>\n",
       "      <td>0.0</td>\n",
       "    </tr>\n",
       "    <tr>\n",
       "      <th>Summer Olympics 2020</th>\n",
       "      <td>865.0</td>\n",
       "      <td>0.0</td>\n",
       "    </tr>\n",
       "  </tbody>\n",
       "</table>\n",
       "<p>199 rows × 2 columns</p>\n",
       "</div>"
      ],
      "text/plain": [
       "                       confirmed     deaths\n",
       "country_region                             \n",
       "US                    92719491.0  1036325.0\n",
       "Brazil                34124579.0   681006.0\n",
       "India                 44223557.0   526928.0\n",
       "Russia                18523028.0   375192.0\n",
       "Mexico                 6875708.0   328437.0\n",
       "...                          ...        ...\n",
       "Marshall Islands           189.0        1.0\n",
       "Antarctica                  11.0        0.0\n",
       "Holy See                    29.0        0.0\n",
       "Winter Olympics 2022       535.0        0.0\n",
       "Summer Olympics 2020       865.0        0.0\n",
       "\n",
       "[199 rows x 2 columns]"
      ]
     },
     "execution_count": 36,
     "metadata": {},
     "output_type": "execute_result"
    }
   ],
   "source": [
    "# melakukan query 2 kolom confirmed dan deaths lalu diurutkan berdasarkan kolom deaths dari yang terbesar\n",
    "\n",
    "wrld_g = df.query(\"date == '2022-08-11'\").groupby('country_region')[['confirmed', 'deaths']].sum().sort_values(by='deaths', ascending=False)\n",
    "wrld_g"
   ]
  },
  {
   "cell_type": "code",
   "execution_count": 38,
   "metadata": {},
   "outputs": [
    {
     "data": {
      "text/plain": [
       "<AxesSubplot:xlabel='country_region'>"
      ]
     },
     "execution_count": 38,
     "metadata": {},
     "output_type": "execute_result"
    },
    {
     "data": {
      "image/png": "[encoded data removed]",
      "text/plain": [
       "<Figure size 432x288 with 1 Axes>"
      ]
     },
     "metadata": {
      "needs_background": "light"
     },
     "output_type": "display_data"
    }
   ],
   "source": [
    "#membuat multiple bar plot menggunakan data confirmed dan death\n",
    "\n",
    "wrld_g.head(10).plot.bar()"
   ]
  },
  {
   "cell_type": "markdown",
   "metadata": {},
   "source": [
    "Dari grafik diatas kita bisa melihat sekilas bahwa Mexico, Peru, dan Indonesia adalah negara yang memiliki rasio kematian yang lebih tinggi jika dibandingkan dengan kasus terkonfirmasinya."
   ]
  },
  {
   "cell_type": "markdown",
   "metadata": {},
   "source": [
    "-------------------------------------------------------------------------------------------------------------------------------------------------\n",
    "\n",
    "### Pada eksplorasi lanjutan ini akan lebih berfokus ke negara US karena case Covid-19 terbanyak berasal dari sana."
   ]
  },
  {
   "cell_type": "code",
   "execution_count": 16,
   "metadata": {},
   "outputs": [
    {
     "data": {
      "text/plain": [
       "province_state\n",
       "California                  10865618.0\n",
       "Texas                        7684975.0\n",
       "Florida                      6901581.0\n",
       "New York                     5895283.0\n",
       "Illinois                     3617142.0\n",
       "Pennsylvania                 3125967.0\n",
       "North Carolina               3047625.0\n",
       "Ohio                         3002043.0\n",
       "Georgia                      2803517.0\n",
       "Michigan                     2708622.0\n",
       "New Jersey                   2631275.0\n",
       "Tennessee                    2231854.0\n",
       "Arizona                      2224964.0\n",
       "Virginia                     1990841.0\n",
       "Massachusetts                1987385.0\n",
       "Indiana                      1854031.0\n",
       "Wisconsin                    1801328.0\n",
       "Washington                   1756800.0\n",
       "South Carolina               1637108.0\n",
       "Colorado                     1612702.0\n",
       "Minnesota                    1611246.0\n",
       "Missouri                     1586363.0\n",
       "Kentucky                     1497314.0\n",
       "Alabama                      1449812.0\n",
       "Louisiana                    1398494.0\n",
       "Maryland                     1199400.0\n",
       "Oklahoma                     1144252.0\n",
       "Utah                         1020130.0\n",
       "Arkansas                      914619.0\n",
       "Mississippi                   890784.0\n",
       "Puerto Rico                   883256.0\n",
       "Oregon                        864083.0\n",
       "Connecticut                   863132.0\n",
       "Kansas                        848571.0\n",
       "Iowa                          828444.0\n",
       "Nevada                        827063.0\n",
       "New Mexico                    600612.0\n",
       "West Virginia                 566420.0\n",
       "Nebraska                      521706.0\n",
       "Idaho                         483255.0\n",
       "Rhode Island                  413259.0\n",
       "New Hampshire                 340885.0\n",
       "Hawaii                        332822.0\n",
       "Montana                       298746.0\n",
       "Delaware                      297879.0\n",
       "Alaska                        289032.0\n",
       "Maine                         278422.0\n",
       "North Dakota                  260507.0\n",
       "South Dakota                  253232.0\n",
       "Wyoming                       172473.0\n",
       "District of Columbia          164253.0\n",
       "Vermont                       138779.0\n",
       "Guam                           56450.0\n",
       "Virgin Islands                 22075.0\n",
       "Northern Mariana Islands       12866.0\n",
       "American Samoa                  8042.0\n",
       "Grand Princess                   103.0\n",
       "Diamond Princess                  49.0\n",
       "Recovered                          0.0\n",
       "Name: confirmed, dtype: float64"
      ]
     },
     "execution_count": 16,
     "metadata": {},
     "output_type": "execute_result"
    }
   ],
   "source": [
    "# melakukan query untuk mengambil data confirmed negara US, dan di-group berdasarkan states-nya.\n",
    "\n",
    "usa_c = df.query(\"country_region == 'US' & date == '2022-08-11'\").groupby('province_state')['confirmed'].sum().sort_values(ascending=False)\n",
    "usa_c"
   ]
  },
  {
   "cell_type": "code",
   "execution_count": 41,
   "metadata": {},
   "outputs": [
    {
     "data": {
      "text/plain": [
       "92719491.0"
      ]
     },
     "execution_count": 41,
     "metadata": {},
     "output_type": "execute_result"
    }
   ],
   "source": [
    "usa_c.sum()"
   ]
  },
  {
   "cell_type": "code",
   "execution_count": 24,
   "metadata": {},
   "outputs": [
    {
     "data": {
      "text/plain": [
       "<AxesSubplot:xlabel='province_state'>"
      ]
     },
     "execution_count": 24,
     "metadata": {},
     "output_type": "execute_result"
    },
    {
     "data": {
      "image/png": "[encoded data removed]",
      "text/plain": [
       "<Figure size 432x288 with 1 Axes>"
      ]
     },
     "metadata": {
      "needs_background": "light"
     },
     "output_type": "display_data"
    }
   ],
   "source": [
    "usa_c.head(10).plot(kind='bar')"
   ]
  },
  {
   "cell_type": "markdown",
   "metadata": {},
   "source": [
    "Dari informasi diatas kita bisa mengetahui jumlah kasus terkonfirmasi Covid-19 di US sebanyak 92.719.491 kasus.\n",
    "5 States tertinggi adalah: California, Texas, Florida, New York, dan Illnois."
   ]
  },
  {
   "cell_type": "code",
   "execution_count": 17,
   "metadata": {},
   "outputs": [
    {
     "data": {
      "text/plain": [
       "province_state\n",
       "California                  93981.0\n",
       "Texas                       89727.0\n",
       "Florida                     78447.0\n",
       "New York                    70658.0\n",
       "Pennsylvania                46374.0\n",
       "Georgia                     39319.0\n",
       "Ohio                        39220.0\n",
       "Illinois                    39079.0\n",
       "Michigan                    37671.0\n",
       "New Jersey                  34385.0\n",
       "Arizona                     30901.0\n",
       "Tennessee                   27190.0\n",
       "North Carolina              25724.0\n",
       "Indiana                     24222.0\n",
       "Massachusetts               21285.0\n",
       "Missouri                    21206.0\n",
       "Virginia                    21126.0\n",
       "Alabama                     20026.0\n",
       "South Carolina              18215.0\n",
       "Louisiana                   17690.0\n",
       "Kentucky                    16514.0\n",
       "Oklahoma                    16372.0\n",
       "Maryland                    15053.0\n",
       "Wisconsin                   14971.0\n",
       "Washington                  13775.0\n",
       "Minnesota                   13362.0\n",
       "Colorado                    13073.0\n",
       "Mississippi                 12715.0\n",
       "Arkansas                    11804.0\n",
       "Nevada                      11297.0\n",
       "Connecticut                 11164.0\n",
       "Iowa                         9850.0\n",
       "Kansas                       8935.0\n",
       "New Mexico                   8307.0\n",
       "Oregon                       8257.0\n",
       "West Virginia                7203.0\n",
       "Idaho                        5059.0\n",
       "Utah                         4940.0\n",
       "Puerto Rico                  4830.0\n",
       "Nebraska                     4374.0\n",
       "Rhode Island                 3632.0\n",
       "Montana                      3481.0\n",
       "Delaware                     3028.0\n",
       "South Dakota                 2973.0\n",
       "New Hampshire                2640.0\n",
       "Maine                        2493.0\n",
       "North Dakota                 2326.0\n",
       "Wyoming                      1865.0\n",
       "Hawaii                       1606.0\n",
       "District of Columbia         1369.0\n",
       "Alaska                       1330.0\n",
       "Vermont                       699.0\n",
       "Guam                          385.0\n",
       "Virgin Islands                122.0\n",
       "Northern Mariana Islands       39.0\n",
       "American Samoa                 33.0\n",
       "Grand Princess                  3.0\n",
       "Recovered                       0.0\n",
       "Diamond Princess                0.0\n",
       "Name: deaths, dtype: float64"
      ]
     },
     "execution_count": 17,
     "metadata": {},
     "output_type": "execute_result"
    }
   ],
   "source": [
    "# melakukan query untuk mengambil data deaths negara US, dan di-group berdasarkan states-nya.\n",
    "\n",
    "usa_d = df.query(\"country_region == 'US' & date == '2022-08-11'\").groupby('province_state')['deaths'].sum().sort_values(ascending=False)\n",
    "usa_d"
   ]
  },
  {
   "cell_type": "code",
   "execution_count": 42,
   "metadata": {},
   "outputs": [
    {
     "data": {
      "text/plain": [
       "1036325.0"
      ]
     },
     "execution_count": 42,
     "metadata": {},
     "output_type": "execute_result"
    }
   ],
   "source": [
    "usa_d.sum()"
   ]
  },
  {
   "cell_type": "code",
   "execution_count": 25,
   "metadata": {},
   "outputs": [
    {
     "data": {
      "text/plain": [
       "<AxesSubplot:xlabel='province_state'>"
      ]
     },
     "execution_count": 25,
     "metadata": {},
     "output_type": "execute_result"
    },
    {
     "data": {
      "image/png": "[encoded data removed]",
      "text/plain": [
       "<Figure size 432x288 with 1 Axes>"
      ]
     },
     "metadata": {
      "needs_background": "light"
     },
     "output_type": "display_data"
    }
   ],
   "source": [
    "usa_d.head(10).plot(kind='bar')"
   ]
  },
  {
   "cell_type": "markdown",
   "metadata": {},
   "source": [
    "Dari informasi diatas kita bisa mengetahui jumlah kematian akibat Covid-19 di US sebanyak 1.036.325 jiwa.\n",
    "5 States tertinggi adalah: California, Texas, Florida, New York, dan Pennsylvania."
   ]
  },
  {
   "cell_type": "code",
   "execution_count": 21,
   "metadata": {},
   "outputs": [
    {
     "data": {
      "text/plain": [
       "province_state\n",
       "Grand Princess              0.029126\n",
       "Pennsylvania                0.014835\n",
       "Oklahoma                    0.014308\n",
       "Mississippi                 0.014274\n",
       "Georgia                     0.014025\n",
       "Michigan                    0.013908\n",
       "Arizona                     0.013888\n",
       "New Mexico                  0.013831\n",
       "Alabama                     0.013813\n",
       "Nevada                      0.013659\n",
       "Missouri                    0.013368\n",
       "New Jersey                  0.013068\n",
       "Indiana                     0.013065\n",
       "Ohio                        0.013064\n",
       "Connecticut                 0.012934\n",
       "Arkansas                    0.012906\n",
       "West Virginia               0.012717\n",
       "Louisiana                   0.012649\n",
       "Maryland                    0.012550\n",
       "Tennessee                   0.012183\n",
       "New York                    0.011986\n",
       "Iowa                        0.011890\n",
       "South Dakota                0.011740\n",
       "Texas                       0.011676\n",
       "Montana                     0.011652\n",
       "Florida                     0.011367\n",
       "South Carolina              0.011126\n",
       "Kentucky                    0.011029\n",
       "Wyoming                     0.010813\n",
       "Illinois                    0.010804\n",
       "Massachusetts               0.010710\n",
       "Virginia                    0.010612\n",
       "Kansas                      0.010529\n",
       "Idaho                       0.010469\n",
       "Delaware                    0.010165\n",
       "Oregon                      0.009556\n",
       "Maine                       0.008954\n",
       "North Dakota                0.008929\n",
       "Rhode Island                0.008789\n",
       "California                  0.008649\n",
       "North Carolina              0.008441\n",
       "Nebraska                    0.008384\n",
       "District of Columbia        0.008335\n",
       "Wisconsin                   0.008311\n",
       "Minnesota                   0.008293\n",
       "Colorado                    0.008106\n",
       "Washington                  0.007841\n",
       "New Hampshire               0.007745\n",
       "Guam                        0.006820\n",
       "Virgin Islands              0.005527\n",
       "Puerto Rico                 0.005468\n",
       "Vermont                     0.005037\n",
       "Utah                        0.004843\n",
       "Hawaii                      0.004825\n",
       "Alaska                      0.004602\n",
       "American Samoa              0.004103\n",
       "Northern Mariana Islands    0.003031\n",
       "Diamond Princess            0.000000\n",
       "Recovered                        NaN\n",
       "dtype: float64"
      ]
     },
     "execution_count": 21,
     "metadata": {},
     "output_type": "execute_result"
    }
   ],
   "source": [
    "# Menghitung deaths/confirmed ratio\n",
    "\n",
    "usa_dp = usa_d / usa_c\n",
    "usa_dp.sort_values(ascending=False)"
   ]
  },
  {
   "cell_type": "code",
   "execution_count": 27,
   "metadata": {},
   "outputs": [
    {
     "data": {
      "text/plain": [
       "<AxesSubplot:xlabel='province_state'>"
      ]
     },
     "execution_count": 27,
     "metadata": {},
     "output_type": "execute_result"
    },
    {
     "data": {
      "image/png": "[encoded data removed]",
      "text/plain": [
       "<Figure size 432x288 with 1 Axes>"
      ]
     },
     "metadata": {
      "needs_background": "light"
     },
     "output_type": "display_data"
    }
   ],
   "source": [
    "usa_dp.sort_values(ascending=False).head(10).plot(kind='bar')"
   ]
  },
  {
   "cell_type": "markdown",
   "metadata": {},
   "source": [
    "Dari informasi diatas kita bisa mengetahui death/confirmed ratio dari Covid-19 di US berdasarkan States-nya. 5 States tertinggi adalah: Pennsylvania, Oklahoma, Mississippi, Georgia, dan Michigan.\n",
    "\n",
    "Pengecualian untuk Grand Princess karena itu adalah cluster dari kapal pesiar dengan nama \"Grand Princess\" yang dilarang melanjutkan perjalanan dan harus karantina di California. Ini mungkin juga bisa menjelaskan mengapa death/confirmed ratio-nya bisa 2x lebih tinggi, karena para penumpangnya tidak boleh keluar dari kapal jadi mereka tidak bisa mendapatkan perawatan yang lebih intensif dan akses ke fasilitas medis yang lebih baik, hanya menggunakan fasilitas kesehatan di kapal yang mungkin jumlahnya juga terbatas."
   ]
  },
  {
   "cell_type": "markdown",
   "metadata": {},
   "source": [
    "# CONCLUSIONS\n",
    "\n",
    "Dari eskplorasi-eksplorasi yang dilakukan pada data ini maka bisa diambil beberapa kesimpulan, yaitu:\n",
    "\n",
    "- Jumlah kasus Covid-19 terkonfirmasi di seluruh dunia dari tanggal 22 Januari 2020 sampai dengan 11 Agustus 2022 sebanyak 588.474.953 kasus dan dengan jumlah korban meninggal dunia sebanyak 6.430.692 jiwa. Sekitar 7.4% penduduk dunia terdampak langsung oleh pandemi Covid-19 ini dan sekitar 1.1% dari kasus positif Covid-19 ini berakhir meninggal dunia.\n",
    "\n",
    "- 5 Negara dengan kasus Covid-19 terbanyak adalah: 1. US, 2. India, 3. France, 4. Brazil, 5. Germany. \n",
    "\n",
    "- 5 Negara dengan jumlah kematian akibat Covid-19 terbanyak adalah: 1. US, 2. Brazil, 3. India, 4. Russia, 5. Mexico\n",
    "\n",
    "- Jumlah kasus Covid-19 terkonfirmasi di US pada periode yang sama adalah sebanyak 92.719.491 sekitar 16% dari total kasus terkonfirmasi di seluruh dunia. Jumlah korban meninggal dunianya sebanyak 1.036.325 sekitar 16% dari jumlah korban akibat Covid-19 di seluruh dunia\n",
    "\n",
    "- 5 States di US dengan kasus Covid-19 terbanyak adalah : 1. California, 2. Texas, 3. Florida, 4. New York, 5. Illinois\n",
    "\n",
    "- 5 States di US dengan jumlah kematian akibat Covid-19 terbanyak adalah : 1. California, 2. Texas, 3. Florida, 4. New York, 5. Pennsylvania\n",
    "\n",
    "- Berdasarkan data negara US terlihat bahwa jumlah kasus terkonfirmasi berbanding lurus dengan jumlah penduduk di setiap states-nya. Namun hal ini tidak berlaku pada data Dunia. Hal ini mungkin disebabkan adanya faktor-faktor lain seperti, jumlah tes yang dilakukan tiap negara pasti berbeda. Lalu adanya perbedaan standard penentuan konfirmasi Covid-19 di setiap negara, ada yang hanya dari tes Antigen ataupun harus dari tes PCR.\n",
    "\n",
    "- Berdasarkan data negara US juga terlihat bahwa jumlah angka kematian berbanding lurus dengan kasus terkonfirmasinya. Namun hal ini kembali berbeda kondisinya pada data Dunia. Hal ini mungkin disebabkan oleh faktor-faktor seperti, jumlah tenaga medis & fasilitas kesehatan di tiap negara yang kondisinya tidak sama. Serta kebijakan-kebijakan yang dikeluarkan setiap negara untuk penanggulangan pandemi Covid-19 juga pasti berbeda. \n",
    "\n",
    "\n",
    "\n",
    "\n",
    " "
   ]
  }
 ],
 "metadata": {
  "kernelspec": {
   "display_name": "Python 3.9.12 ('base')",
   "language": "python",
   "name": "python3"
  },
  "language_info": {
   "codemirror_mode": {
    "name": "ipython",
    "version": 3
   },
   "file_extension": ".py",
   "mimetype": "text/x-python",
   "name": "python",
   "nbconvert_exporter": "python",
   "pygments_lexer": "ipython3",
   "version": "3.9.12"
  },
  "orig_nbformat": 4,
  "vscode": {
   "interpreter": {
    "hash": "cf222b8a245eb29bee3b460393575987629655e73ab8896d67c96c1e560c9ea9"
   }
  }
 },
 "nbformat": 4,
 "nbformat_minor": 2
}
